{
  "nbformat": 4,
  "nbformat_minor": 0,
  "metadata": {
    "colab": {
      "name": "Model.ipynb",
      "provenance": [],
      "authorship_tag": "ABX9TyOjA4AHa2Hdjnel00gyzsFZ"
    },
    "kernelspec": {
      "name": "python3",
      "display_name": "Python 3"
    }
  },
  "cells": [
    {
      "cell_type": "markdown",
      "metadata": {
        "id": "mRbqQ1RyF2mH",
        "colab_type": "text"
      },
      "source": [
        "## **Install Libraries**"
      ]
    },
    {
      "cell_type": "code",
      "metadata": {
        "id": "gbtAJbG_EnIs",
        "colab_type": "code",
        "colab": {
          "base_uri": "https://localhost:8080/",
          "height": 255
        },
        "outputId": "82fdb3d4-c95a-402f-9d81-c83e0bd8a206"
      },
      "source": [
        "!pip install geopandas"
      ],
      "execution_count": 21,
      "outputs": [
        {
          "output_type": "stream",
          "text": [
            "Requirement already satisfied: geopandas in /usr/local/lib/python3.6/dist-packages (0.6.2)\n",
            "Requirement already satisfied: shapely in /usr/local/lib/python3.6/dist-packages (from geopandas) (1.6.4.post2)\n",
            "Requirement already satisfied: fiona in /usr/local/lib/python3.6/dist-packages (from geopandas) (1.8.13)\n",
            "Requirement already satisfied: pyproj in /usr/local/lib/python3.6/dist-packages (from geopandas) (2.4.2.post1)\n",
            "Requirement already satisfied: pandas>=0.23.0 in /usr/local/lib/python3.6/dist-packages (from geopandas) (0.25.3)\n",
            "Requirement already satisfied: cligj>=0.5 in /usr/local/lib/python3.6/dist-packages (from fiona->geopandas) (0.5.0)\n",
            "Requirement already satisfied: munch in /usr/local/lib/python3.6/dist-packages (from fiona->geopandas) (2.5.0)\n",
            "Requirement already satisfied: six>=1.7 in /usr/local/lib/python3.6/dist-packages (from fiona->geopandas) (1.12.0)\n",
            "Requirement already satisfied: click<8,>=4.0 in /usr/local/lib/python3.6/dist-packages (from fiona->geopandas) (7.0)\n",
            "Requirement already satisfied: click-plugins>=1.0 in /usr/local/lib/python3.6/dist-packages (from fiona->geopandas) (1.1.1)\n",
            "Requirement already satisfied: attrs>=17 in /usr/local/lib/python3.6/dist-packages (from fiona->geopandas) (19.3.0)\n",
            "Requirement already satisfied: python-dateutil>=2.6.1 in /usr/local/lib/python3.6/dist-packages (from pandas>=0.23.0->geopandas) (2.6.1)\n",
            "Requirement already satisfied: pytz>=2017.2 in /usr/local/lib/python3.6/dist-packages (from pandas>=0.23.0->geopandas) (2018.9)\n",
            "Requirement already satisfied: numpy>=1.13.3 in /usr/local/lib/python3.6/dist-packages (from pandas>=0.23.0->geopandas) (1.17.5)\n"
          ],
          "name": "stdout"
        }
      ]
    },
    {
      "cell_type": "markdown",
      "metadata": {
        "id": "QE8HQie2F6a_",
        "colab_type": "text"
      },
      "source": [
        "## **Import Libraries**"
      ]
    },
    {
      "cell_type": "code",
      "metadata": {
        "id": "-x6qaLq-Ear2",
        "colab_type": "code",
        "colab": {}
      },
      "source": [
        "%matplotlib inline\n",
        "import pandas as pd\n",
        "import numpy as np\n",
        "import matplotlib.pyplot as plt\n",
        "import geopandas as gpd"
      ],
      "execution_count": 0,
      "outputs": []
    },
    {
      "cell_type": "markdown",
      "metadata": {
        "id": "zd03pGirF9Gr",
        "colab_type": "text"
      },
      "source": [
        "## **Import Data**"
      ]
    },
    {
      "cell_type": "code",
      "metadata": {
        "id": "-TwtxZUTEg8h",
        "colab_type": "code",
        "colab": {}
      },
      "source": [
        "crimes = pd.read_csv(\"train.csv\")"
      ],
      "execution_count": 0,
      "outputs": []
    },
    {
      "cell_type": "code",
      "metadata": {
        "id": "gmsK5kKSLqyf",
        "colab_type": "code",
        "colab": {}
      },
      "source": [
        "weather = pd.read_csv(\"https://raw.githubusercontent.com/fescobar96/Crime-Prediction-in-San-Francisco/master/Data/sf_weather.csv\")"
      ],
      "execution_count": 0,
      "outputs": []
    },
    {
      "cell_type": "markdown",
      "metadata": {
        "id": "cZet8a7jLNXx",
        "colab_type": "text"
      },
      "source": [
        "## **Data Preprocessing - San Francisco Crimes**"
      ]
    },
    {
      "cell_type": "code",
      "metadata": {
        "id": "HDzAaYYvGPtT",
        "colab_type": "code",
        "colab": {}
      },
      "source": [
        "crimes.drop(columns=[\"Category\", \"Descript\", \"Resolution\", \"Address\", \"X\", \"Y\"], inplace=True)"
      ],
      "execution_count": 0,
      "outputs": []
    },
    {
      "cell_type": "code",
      "metadata": {
        "id": "W1W4XOnJMIw7",
        "colab_type": "code",
        "colab": {}
      },
      "source": [
        "crimes[\"Dates\"] = pd.to_datetime(crimes[\"Dates\"]).dt.date"
      ],
      "execution_count": 0,
      "outputs": []
    },
    {
      "cell_type": "code",
      "metadata": {
        "id": "Gb1dkpTUGLFi",
        "colab_type": "code",
        "colab": {
          "base_uri": "https://localhost:8080/",
          "height": 204
        },
        "outputId": "0a9042ce-db72-48db-d89b-5cd42cec5956"
      },
      "source": [
        "crimes.head()"
      ],
      "execution_count": 27,
      "outputs": [
        {
          "output_type": "execute_result",
          "data": {
            "text/html": [
              "<div>\n",
              "<style scoped>\n",
              "    .dataframe tbody tr th:only-of-type {\n",
              "        vertical-align: middle;\n",
              "    }\n",
              "\n",
              "    .dataframe tbody tr th {\n",
              "        vertical-align: top;\n",
              "    }\n",
              "\n",
              "    .dataframe thead th {\n",
              "        text-align: right;\n",
              "    }\n",
              "</style>\n",
              "<table border=\"1\" class=\"dataframe\">\n",
              "  <thead>\n",
              "    <tr style=\"text-align: right;\">\n",
              "      <th></th>\n",
              "      <th>Dates</th>\n",
              "      <th>DayOfWeek</th>\n",
              "      <th>PdDistrict</th>\n",
              "    </tr>\n",
              "  </thead>\n",
              "  <tbody>\n",
              "    <tr>\n",
              "      <th>0</th>\n",
              "      <td>2015-05-13</td>\n",
              "      <td>Wednesday</td>\n",
              "      <td>NORTHERN</td>\n",
              "    </tr>\n",
              "    <tr>\n",
              "      <th>1</th>\n",
              "      <td>2015-05-13</td>\n",
              "      <td>Wednesday</td>\n",
              "      <td>NORTHERN</td>\n",
              "    </tr>\n",
              "    <tr>\n",
              "      <th>2</th>\n",
              "      <td>2015-05-13</td>\n",
              "      <td>Wednesday</td>\n",
              "      <td>NORTHERN</td>\n",
              "    </tr>\n",
              "    <tr>\n",
              "      <th>3</th>\n",
              "      <td>2015-05-13</td>\n",
              "      <td>Wednesday</td>\n",
              "      <td>NORTHERN</td>\n",
              "    </tr>\n",
              "    <tr>\n",
              "      <th>4</th>\n",
              "      <td>2015-05-13</td>\n",
              "      <td>Wednesday</td>\n",
              "      <td>PARK</td>\n",
              "    </tr>\n",
              "  </tbody>\n",
              "</table>\n",
              "</div>"
            ],
            "text/plain": [
              "        Dates  DayOfWeek PdDistrict\n",
              "0  2015-05-13  Wednesday   NORTHERN\n",
              "1  2015-05-13  Wednesday   NORTHERN\n",
              "2  2015-05-13  Wednesday   NORTHERN\n",
              "3  2015-05-13  Wednesday   NORTHERN\n",
              "4  2015-05-13  Wednesday       PARK"
            ]
          },
          "metadata": {
            "tags": []
          },
          "execution_count": 27
        }
      ]
    },
    {
      "cell_type": "markdown",
      "metadata": {
        "id": "RkUUOXX4MBXT",
        "colab_type": "text"
      },
      "source": [
        "## **Data Preprocessing - Weather**"
      ]
    },
    {
      "cell_type": "code",
      "metadata": {
        "id": "x0ETfXvnSVFJ",
        "colab_type": "code",
        "colab": {}
      },
      "source": [
        "weather[\"date\"] = pd.to_datetime(weather[\"date\"]).dt.date"
      ],
      "execution_count": 0,
      "outputs": []
    },
    {
      "cell_type": "code",
      "metadata": {
        "id": "o1bE64PnGyaB",
        "colab_type": "code",
        "colab": {
          "base_uri": "https://localhost:8080/",
          "height": 204
        },
        "outputId": "26ee58b0-08b9-4106-ca62-2605314e5fd0"
      },
      "source": [
        "weather.head()"
      ],
      "execution_count": 31,
      "outputs": [
        {
          "output_type": "execute_result",
          "data": {
            "text/html": [
              "<div>\n",
              "<style scoped>\n",
              "    .dataframe tbody tr th:only-of-type {\n",
              "        vertical-align: middle;\n",
              "    }\n",
              "\n",
              "    .dataframe tbody tr th {\n",
              "        vertical-align: top;\n",
              "    }\n",
              "\n",
              "    .dataframe thead th {\n",
              "        text-align: right;\n",
              "    }\n",
              "</style>\n",
              "<table border=\"1\" class=\"dataframe\">\n",
              "  <thead>\n",
              "    <tr style=\"text-align: right;\">\n",
              "      <th></th>\n",
              "      <th>date</th>\n",
              "      <th>avg_temp (celsius)</th>\n",
              "      <th>precipitation (mm)</th>\n",
              "      <th>wind_speed (km/h)</th>\n",
              "      <th>visibility (km)</th>\n",
              "      <th>moon_illumination, %</th>\n",
              "    </tr>\n",
              "  </thead>\n",
              "  <tbody>\n",
              "    <tr>\n",
              "      <th>0</th>\n",
              "      <td>2003-01-01</td>\n",
              "      <td>9</td>\n",
              "      <td>0.00</td>\n",
              "      <td>3</td>\n",
              "      <td>15.0</td>\n",
              "      <td>Waning Crescent, 1</td>\n",
              "    </tr>\n",
              "    <tr>\n",
              "      <th>1</th>\n",
              "      <td>2003-01-02</td>\n",
              "      <td>10</td>\n",
              "      <td>0.00</td>\n",
              "      <td>5</td>\n",
              "      <td>15.0</td>\n",
              "      <td>Waning Crescent, 0</td>\n",
              "    </tr>\n",
              "    <tr>\n",
              "      <th>2</th>\n",
              "      <td>2003-01-03</td>\n",
              "      <td>10</td>\n",
              "      <td>0.00</td>\n",
              "      <td>5</td>\n",
              "      <td>15.0</td>\n",
              "      <td>New Moon, 1</td>\n",
              "    </tr>\n",
              "    <tr>\n",
              "      <th>3</th>\n",
              "      <td>2003-01-04</td>\n",
              "      <td>11</td>\n",
              "      <td>0.00</td>\n",
              "      <td>5</td>\n",
              "      <td>15.0</td>\n",
              "      <td>Waxing Crescent, 5</td>\n",
              "    </tr>\n",
              "    <tr>\n",
              "      <th>4</th>\n",
              "      <td>2003-01-05</td>\n",
              "      <td>11</td>\n",
              "      <td>0.25</td>\n",
              "      <td>5</td>\n",
              "      <td>6.0</td>\n",
              "      <td>Waxing Crescent, 10</td>\n",
              "    </tr>\n",
              "  </tbody>\n",
              "</table>\n",
              "</div>"
            ],
            "text/plain": [
              "         date  avg_temp (celsius)  ... visibility (km) moon_illumination, %\n",
              "0  2003-01-01                   9  ...            15.0   Waning Crescent, 1\n",
              "1  2003-01-02                  10  ...            15.0   Waning Crescent, 0\n",
              "2  2003-01-03                  10  ...            15.0          New Moon, 1\n",
              "3  2003-01-04                  11  ...            15.0   Waxing Crescent, 5\n",
              "4  2003-01-05                  11  ...             6.0  Waxing Crescent, 10\n",
              "\n",
              "[5 rows x 6 columns]"
            ]
          },
          "metadata": {
            "tags": []
          },
          "execution_count": 31
        }
      ]
    },
    {
      "cell_type": "code",
      "metadata": {
        "id": "mfG0HXzNLuns",
        "colab_type": "code",
        "colab": {
          "base_uri": "https://localhost:8080/",
          "height": 34
        },
        "outputId": "08c15ace-450e-4eda-f15e-6b3b44bb6de8"
      },
      "source": [
        "len"
      ],
      "execution_count": 29,
      "outputs": [
        {
          "output_type": "execute_result",
          "data": {
            "text/plain": [
              "<function len>"
            ]
          },
          "metadata": {
            "tags": []
          },
          "execution_count": 29
        }
      ]
    }
  ]
}