{
  "nbformat": 4,
  "nbformat_minor": 0,
  "metadata": {
    "colab": {
      "name": "Model.ipynb",
      "provenance": [],
      "authorship_tag": "ABX9TyN7GBXcxq29/eIcT/7Z5f07"
    },
    "kernelspec": {
      "name": "python3",
      "display_name": "Python 3"
    }
  },
  "cells": [
    {
      "cell_type": "markdown",
      "metadata": {
        "id": "mRbqQ1RyF2mH",
        "colab_type": "text"
      },
      "source": [
        "## **Install Libraries**"
      ]
    },
    {
      "cell_type": "code",
      "metadata": {
        "id": "gbtAJbG_EnIs",
        "colab_type": "code",
        "colab": {
          "base_uri": "https://localhost:8080/",
          "height": 255
        },
        "outputId": "6d0fca68-f119-43ca-d5c4-30c4f332082c"
      },
      "source": [
        "!pip install geopandas"
      ],
      "execution_count": 60,
      "outputs": [
        {
          "output_type": "stream",
          "text": [
            "Requirement already satisfied: geopandas in /usr/local/lib/python3.6/dist-packages (0.6.2)\n",
            "Requirement already satisfied: shapely in /usr/local/lib/python3.6/dist-packages (from geopandas) (1.6.4.post2)\n",
            "Requirement already satisfied: pandas>=0.23.0 in /usr/local/lib/python3.6/dist-packages (from geopandas) (0.25.3)\n",
            "Requirement already satisfied: fiona in /usr/local/lib/python3.6/dist-packages (from geopandas) (1.8.13)\n",
            "Requirement already satisfied: pyproj in /usr/local/lib/python3.6/dist-packages (from geopandas) (2.4.2.post1)\n",
            "Requirement already satisfied: numpy>=1.13.3 in /usr/local/lib/python3.6/dist-packages (from pandas>=0.23.0->geopandas) (1.17.5)\n",
            "Requirement already satisfied: pytz>=2017.2 in /usr/local/lib/python3.6/dist-packages (from pandas>=0.23.0->geopandas) (2018.9)\n",
            "Requirement already satisfied: python-dateutil>=2.6.1 in /usr/local/lib/python3.6/dist-packages (from pandas>=0.23.0->geopandas) (2.6.1)\n",
            "Requirement already satisfied: click-plugins>=1.0 in /usr/local/lib/python3.6/dist-packages (from fiona->geopandas) (1.1.1)\n",
            "Requirement already satisfied: six>=1.7 in /usr/local/lib/python3.6/dist-packages (from fiona->geopandas) (1.12.0)\n",
            "Requirement already satisfied: cligj>=0.5 in /usr/local/lib/python3.6/dist-packages (from fiona->geopandas) (0.5.0)\n",
            "Requirement already satisfied: munch in /usr/local/lib/python3.6/dist-packages (from fiona->geopandas) (2.5.0)\n",
            "Requirement already satisfied: click<8,>=4.0 in /usr/local/lib/python3.6/dist-packages (from fiona->geopandas) (7.0)\n",
            "Requirement already satisfied: attrs>=17 in /usr/local/lib/python3.6/dist-packages (from fiona->geopandas) (19.3.0)\n"
          ],
          "name": "stdout"
        }
      ]
    },
    {
      "cell_type": "markdown",
      "metadata": {
        "id": "QE8HQie2F6a_",
        "colab_type": "text"
      },
      "source": [
        "## **Import Libraries**"
      ]
    },
    {
      "cell_type": "code",
      "metadata": {
        "id": "-x6qaLq-Ear2",
        "colab_type": "code",
        "colab": {}
      },
      "source": [
        "%matplotlib inline\n",
        "import pandas as pd\n",
        "import numpy as np\n",
        "import matplotlib.pyplot as plt\n",
        "import geopandas as gpd"
      ],
      "execution_count": 0,
      "outputs": []
    },
    {
      "cell_type": "markdown",
      "metadata": {
        "id": "zd03pGirF9Gr",
        "colab_type": "text"
      },
      "source": [
        "## **Import Data**"
      ]
    },
    {
      "cell_type": "code",
      "metadata": {
        "id": "-TwtxZUTEg8h",
        "colab_type": "code",
        "colab": {}
      },
      "source": [
        "crimes = pd.read_csv(\"train.csv\")"
      ],
      "execution_count": 0,
      "outputs": []
    },
    {
      "cell_type": "code",
      "metadata": {
        "id": "gmsK5kKSLqyf",
        "colab_type": "code",
        "colab": {}
      },
      "source": [
        "weather = pd.read_csv(\"https://raw.githubusercontent.com/fescobar96/Crime-Prediction-in-San-Francisco/master/Data/sf_weather.csv\")"
      ],
      "execution_count": 0,
      "outputs": []
    },
    {
      "cell_type": "markdown",
      "metadata": {
        "id": "cZet8a7jLNXx",
        "colab_type": "text"
      },
      "source": [
        "## **Data Preprocessing - San Francisco Crimes**"
      ]
    },
    {
      "cell_type": "code",
      "metadata": {
        "id": "HDzAaYYvGPtT",
        "colab_type": "code",
        "colab": {}
      },
      "source": [
        "crimes.drop(columns=[\"Category\", \"Descript\", \"Resolution\", \"Address\", \"X\", \"Y\"], inplace=True)"
      ],
      "execution_count": 0,
      "outputs": []
    },
    {
      "cell_type": "code",
      "metadata": {
        "id": "W1W4XOnJMIw7",
        "colab_type": "code",
        "colab": {}
      },
      "source": [
        "crimes[\"Dates\"] = pd.to_datetime(crimes[\"Dates\"]).dt.date"
      ],
      "execution_count": 0,
      "outputs": []
    },
    {
      "cell_type": "code",
      "metadata": {
        "id": "Gb1dkpTUGLFi",
        "colab_type": "code",
        "colab": {
          "base_uri": "https://localhost:8080/",
          "height": 204
        },
        "outputId": "79b1a48f-1b3e-46b8-cf25-26f182861d76"
      },
      "source": [
        "crimes.head()"
      ],
      "execution_count": 66,
      "outputs": [
        {
          "output_type": "execute_result",
          "data": {
            "text/html": [
              "<div>\n",
              "<style scoped>\n",
              "    .dataframe tbody tr th:only-of-type {\n",
              "        vertical-align: middle;\n",
              "    }\n",
              "\n",
              "    .dataframe tbody tr th {\n",
              "        vertical-align: top;\n",
              "    }\n",
              "\n",
              "    .dataframe thead th {\n",
              "        text-align: right;\n",
              "    }\n",
              "</style>\n",
              "<table border=\"1\" class=\"dataframe\">\n",
              "  <thead>\n",
              "    <tr style=\"text-align: right;\">\n",
              "      <th></th>\n",
              "      <th>Dates</th>\n",
              "      <th>DayOfWeek</th>\n",
              "      <th>PdDistrict</th>\n",
              "    </tr>\n",
              "  </thead>\n",
              "  <tbody>\n",
              "    <tr>\n",
              "      <th>0</th>\n",
              "      <td>2015-05-13</td>\n",
              "      <td>Wednesday</td>\n",
              "      <td>NORTHERN</td>\n",
              "    </tr>\n",
              "    <tr>\n",
              "      <th>1</th>\n",
              "      <td>2015-05-13</td>\n",
              "      <td>Wednesday</td>\n",
              "      <td>NORTHERN</td>\n",
              "    </tr>\n",
              "    <tr>\n",
              "      <th>2</th>\n",
              "      <td>2015-05-13</td>\n",
              "      <td>Wednesday</td>\n",
              "      <td>NORTHERN</td>\n",
              "    </tr>\n",
              "    <tr>\n",
              "      <th>3</th>\n",
              "      <td>2015-05-13</td>\n",
              "      <td>Wednesday</td>\n",
              "      <td>NORTHERN</td>\n",
              "    </tr>\n",
              "    <tr>\n",
              "      <th>4</th>\n",
              "      <td>2015-05-13</td>\n",
              "      <td>Wednesday</td>\n",
              "      <td>PARK</td>\n",
              "    </tr>\n",
              "  </tbody>\n",
              "</table>\n",
              "</div>"
            ],
            "text/plain": [
              "        Dates  DayOfWeek PdDistrict\n",
              "0  2015-05-13  Wednesday   NORTHERN\n",
              "1  2015-05-13  Wednesday   NORTHERN\n",
              "2  2015-05-13  Wednesday   NORTHERN\n",
              "3  2015-05-13  Wednesday   NORTHERN\n",
              "4  2015-05-13  Wednesday       PARK"
            ]
          },
          "metadata": {
            "tags": []
          },
          "execution_count": 66
        }
      ]
    },
    {
      "cell_type": "markdown",
      "metadata": {
        "id": "RkUUOXX4MBXT",
        "colab_type": "text"
      },
      "source": [
        "## **Data Preprocessing - Weather**"
      ]
    },
    {
      "cell_type": "code",
      "metadata": {
        "id": "x0ETfXvnSVFJ",
        "colab_type": "code",
        "colab": {}
      },
      "source": [
        "weather[\"Dates\"] = pd.to_datetime(weather[\"date\"]).dt.date"
      ],
      "execution_count": 0,
      "outputs": []
    },
    {
      "cell_type": "code",
      "metadata": {
        "id": "4Kk4hEZNVSNH",
        "colab_type": "code",
        "colab": {}
      },
      "source": [
        "weather.drop(columns=[\"date\", \"moon_illumination, %\"], inplace=True)"
      ],
      "execution_count": 0,
      "outputs": []
    },
    {
      "cell_type": "code",
      "metadata": {
        "id": "o1bE64PnGyaB",
        "colab_type": "code",
        "colab": {
          "base_uri": "https://localhost:8080/",
          "height": 204
        },
        "outputId": "a8817012-e7fb-4a41-b6c4-67e745a32c20"
      },
      "source": [
        "weather.head()"
      ],
      "execution_count": 69,
      "outputs": [
        {
          "output_type": "execute_result",
          "data": {
            "text/html": [
              "<div>\n",
              "<style scoped>\n",
              "    .dataframe tbody tr th:only-of-type {\n",
              "        vertical-align: middle;\n",
              "    }\n",
              "\n",
              "    .dataframe tbody tr th {\n",
              "        vertical-align: top;\n",
              "    }\n",
              "\n",
              "    .dataframe thead th {\n",
              "        text-align: right;\n",
              "    }\n",
              "</style>\n",
              "<table border=\"1\" class=\"dataframe\">\n",
              "  <thead>\n",
              "    <tr style=\"text-align: right;\">\n",
              "      <th></th>\n",
              "      <th>avg_temp (celsius)</th>\n",
              "      <th>precipitation (mm)</th>\n",
              "      <th>wind_speed (km/h)</th>\n",
              "      <th>visibility (km)</th>\n",
              "      <th>Dates</th>\n",
              "    </tr>\n",
              "  </thead>\n",
              "  <tbody>\n",
              "    <tr>\n",
              "      <th>0</th>\n",
              "      <td>9</td>\n",
              "      <td>0.00</td>\n",
              "      <td>3</td>\n",
              "      <td>15.0</td>\n",
              "      <td>2003-01-01</td>\n",
              "    </tr>\n",
              "    <tr>\n",
              "      <th>1</th>\n",
              "      <td>10</td>\n",
              "      <td>0.00</td>\n",
              "      <td>5</td>\n",
              "      <td>15.0</td>\n",
              "      <td>2003-01-02</td>\n",
              "    </tr>\n",
              "    <tr>\n",
              "      <th>2</th>\n",
              "      <td>10</td>\n",
              "      <td>0.00</td>\n",
              "      <td>5</td>\n",
              "      <td>15.0</td>\n",
              "      <td>2003-01-03</td>\n",
              "    </tr>\n",
              "    <tr>\n",
              "      <th>3</th>\n",
              "      <td>11</td>\n",
              "      <td>0.00</td>\n",
              "      <td>5</td>\n",
              "      <td>15.0</td>\n",
              "      <td>2003-01-04</td>\n",
              "    </tr>\n",
              "    <tr>\n",
              "      <th>4</th>\n",
              "      <td>11</td>\n",
              "      <td>0.25</td>\n",
              "      <td>5</td>\n",
              "      <td>6.0</td>\n",
              "      <td>2003-01-05</td>\n",
              "    </tr>\n",
              "  </tbody>\n",
              "</table>\n",
              "</div>"
            ],
            "text/plain": [
              "   avg_temp (celsius) precipitation (mm)  ... visibility (km)       Dates\n",
              "0                   9               0.00  ...            15.0  2003-01-01\n",
              "1                  10               0.00  ...            15.0  2003-01-02\n",
              "2                  10               0.00  ...            15.0  2003-01-03\n",
              "3                  11               0.00  ...            15.0  2003-01-04\n",
              "4                  11               0.25  ...             6.0  2003-01-05\n",
              "\n",
              "[5 rows x 5 columns]"
            ]
          },
          "metadata": {
            "tags": []
          },
          "execution_count": 69
        }
      ]
    },
    {
      "cell_type": "code",
      "metadata": {
        "id": "Psy4I21fVPXa",
        "colab_type": "code",
        "colab": {
          "base_uri": "https://localhost:8080/",
          "height": 419
        },
        "outputId": "3248ed5c-50fd-4cc3-b6ed-3cf00f3ff28c"
      },
      "source": [
        "weather"
      ],
      "execution_count": 70,
      "outputs": [
        {
          "output_type": "execute_result",
          "data": {
            "text/html": [
              "<div>\n",
              "<style scoped>\n",
              "    .dataframe tbody tr th:only-of-type {\n",
              "        vertical-align: middle;\n",
              "    }\n",
              "\n",
              "    .dataframe tbody tr th {\n",
              "        vertical-align: top;\n",
              "    }\n",
              "\n",
              "    .dataframe thead th {\n",
              "        text-align: right;\n",
              "    }\n",
              "</style>\n",
              "<table border=\"1\" class=\"dataframe\">\n",
              "  <thead>\n",
              "    <tr style=\"text-align: right;\">\n",
              "      <th></th>\n",
              "      <th>avg_temp (celsius)</th>\n",
              "      <th>precipitation (mm)</th>\n",
              "      <th>wind_speed (km/h)</th>\n",
              "      <th>visibility (km)</th>\n",
              "      <th>Dates</th>\n",
              "    </tr>\n",
              "  </thead>\n",
              "  <tbody>\n",
              "    <tr>\n",
              "      <th>0</th>\n",
              "      <td>9</td>\n",
              "      <td>0.00</td>\n",
              "      <td>3</td>\n",
              "      <td>15.0</td>\n",
              "      <td>2003-01-01</td>\n",
              "    </tr>\n",
              "    <tr>\n",
              "      <th>1</th>\n",
              "      <td>10</td>\n",
              "      <td>0.00</td>\n",
              "      <td>5</td>\n",
              "      <td>15.0</td>\n",
              "      <td>2003-01-02</td>\n",
              "    </tr>\n",
              "    <tr>\n",
              "      <th>2</th>\n",
              "      <td>10</td>\n",
              "      <td>0.00</td>\n",
              "      <td>5</td>\n",
              "      <td>15.0</td>\n",
              "      <td>2003-01-03</td>\n",
              "    </tr>\n",
              "    <tr>\n",
              "      <th>3</th>\n",
              "      <td>11</td>\n",
              "      <td>0.00</td>\n",
              "      <td>5</td>\n",
              "      <td>15.0</td>\n",
              "      <td>2003-01-04</td>\n",
              "    </tr>\n",
              "    <tr>\n",
              "      <th>4</th>\n",
              "      <td>11</td>\n",
              "      <td>0.25</td>\n",
              "      <td>5</td>\n",
              "      <td>6.0</td>\n",
              "      <td>2003-01-05</td>\n",
              "    </tr>\n",
              "    <tr>\n",
              "      <th>...</th>\n",
              "      <td>...</td>\n",
              "      <td>...</td>\n",
              "      <td>...</td>\n",
              "      <td>...</td>\n",
              "      <td>...</td>\n",
              "    </tr>\n",
              "    <tr>\n",
              "      <th>4511</th>\n",
              "      <td>15</td>\n",
              "      <td>0.00</td>\n",
              "      <td>19</td>\n",
              "      <td>45.0</td>\n",
              "      <td>2015-05-09</td>\n",
              "    </tr>\n",
              "    <tr>\n",
              "      <th>4512</th>\n",
              "      <td>14</td>\n",
              "      <td>0.00</td>\n",
              "      <td>21</td>\n",
              "      <td>47.0</td>\n",
              "      <td>2015-05-10</td>\n",
              "    </tr>\n",
              "    <tr>\n",
              "      <th>4513</th>\n",
              "      <td>14</td>\n",
              "      <td>0.00</td>\n",
              "      <td>36</td>\n",
              "      <td>66.0</td>\n",
              "      <td>2015-05-11</td>\n",
              "    </tr>\n",
              "    <tr>\n",
              "      <th>4514</th>\n",
              "      <td>14</td>\n",
              "      <td>0.00</td>\n",
              "      <td>38</td>\n",
              "      <td>69.0</td>\n",
              "      <td>2015-05-12</td>\n",
              "    </tr>\n",
              "    <tr>\n",
              "      <th>4515</th>\n",
              "      <td>15</td>\n",
              "      <td>0.00</td>\n",
              "      <td>19</td>\n",
              "      <td>40.0</td>\n",
              "      <td>2015-05-13</td>\n",
              "    </tr>\n",
              "  </tbody>\n",
              "</table>\n",
              "<p>4516 rows × 5 columns</p>\n",
              "</div>"
            ],
            "text/plain": [
              "      avg_temp (celsius) precipitation (mm)  ... visibility (km)       Dates\n",
              "0                      9               0.00  ...            15.0  2003-01-01\n",
              "1                     10               0.00  ...            15.0  2003-01-02\n",
              "2                     10               0.00  ...            15.0  2003-01-03\n",
              "3                     11               0.00  ...            15.0  2003-01-04\n",
              "4                     11               0.25  ...             6.0  2003-01-05\n",
              "...                  ...                ...  ...             ...         ...\n",
              "4511                  15               0.00  ...            45.0  2015-05-09\n",
              "4512                  14               0.00  ...            47.0  2015-05-10\n",
              "4513                  14               0.00  ...            66.0  2015-05-11\n",
              "4514                  14               0.00  ...            69.0  2015-05-12\n",
              "4515                  15               0.00  ...            40.0  2015-05-13\n",
              "\n",
              "[4516 rows x 5 columns]"
            ]
          },
          "metadata": {
            "tags": []
          },
          "execution_count": 70
        }
      ]
    },
    {
      "cell_type": "markdown",
      "metadata": {
        "id": "KeML0V-YS1fW",
        "colab_type": "text"
      },
      "source": [
        "Merge crimes and weather dataframes"
      ]
    },
    {
      "cell_type": "code",
      "metadata": {
        "id": "pjyDhz-dTrBi",
        "colab_type": "code",
        "colab": {}
      },
      "source": [
        "data=pd.merge(crimes, weather, how=\"left\", on=\"Dates\")"
      ],
      "execution_count": 0,
      "outputs": []
    },
    {
      "cell_type": "code",
      "metadata": {
        "id": "huC_aGKSTYJW",
        "colab_type": "code",
        "colab": {
          "base_uri": "https://localhost:8080/",
          "height": 419
        },
        "outputId": "b02c2250-ad41-47f0-fcd8-6fdde52af1ff"
      },
      "source": [
        "data"
      ],
      "execution_count": 74,
      "outputs": [
        {
          "output_type": "execute_result",
          "data": {
            "text/html": [
              "<div>\n",
              "<style scoped>\n",
              "    .dataframe tbody tr th:only-of-type {\n",
              "        vertical-align: middle;\n",
              "    }\n",
              "\n",
              "    .dataframe tbody tr th {\n",
              "        vertical-align: top;\n",
              "    }\n",
              "\n",
              "    .dataframe thead th {\n",
              "        text-align: right;\n",
              "    }\n",
              "</style>\n",
              "<table border=\"1\" class=\"dataframe\">\n",
              "  <thead>\n",
              "    <tr style=\"text-align: right;\">\n",
              "      <th></th>\n",
              "      <th>Dates</th>\n",
              "      <th>DayOfWeek</th>\n",
              "      <th>PdDistrict</th>\n",
              "      <th>avg_temp (celsius)</th>\n",
              "      <th>precipitation (mm)</th>\n",
              "      <th>wind_speed (km/h)</th>\n",
              "      <th>visibility (km)</th>\n",
              "    </tr>\n",
              "  </thead>\n",
              "  <tbody>\n",
              "    <tr>\n",
              "      <th>0</th>\n",
              "      <td>2015-05-13</td>\n",
              "      <td>Wednesday</td>\n",
              "      <td>NORTHERN</td>\n",
              "      <td>15</td>\n",
              "      <td>0.00</td>\n",
              "      <td>19</td>\n",
              "      <td>40.0</td>\n",
              "    </tr>\n",
              "    <tr>\n",
              "      <th>1</th>\n",
              "      <td>2015-05-13</td>\n",
              "      <td>Wednesday</td>\n",
              "      <td>NORTHERN</td>\n",
              "      <td>15</td>\n",
              "      <td>0.00</td>\n",
              "      <td>19</td>\n",
              "      <td>40.0</td>\n",
              "    </tr>\n",
              "    <tr>\n",
              "      <th>2</th>\n",
              "      <td>2015-05-13</td>\n",
              "      <td>Wednesday</td>\n",
              "      <td>NORTHERN</td>\n",
              "      <td>15</td>\n",
              "      <td>0.00</td>\n",
              "      <td>19</td>\n",
              "      <td>40.0</td>\n",
              "    </tr>\n",
              "    <tr>\n",
              "      <th>3</th>\n",
              "      <td>2015-05-13</td>\n",
              "      <td>Wednesday</td>\n",
              "      <td>NORTHERN</td>\n",
              "      <td>15</td>\n",
              "      <td>0.00</td>\n",
              "      <td>19</td>\n",
              "      <td>40.0</td>\n",
              "    </tr>\n",
              "    <tr>\n",
              "      <th>4</th>\n",
              "      <td>2015-05-13</td>\n",
              "      <td>Wednesday</td>\n",
              "      <td>PARK</td>\n",
              "      <td>15</td>\n",
              "      <td>0.00</td>\n",
              "      <td>19</td>\n",
              "      <td>40.0</td>\n",
              "    </tr>\n",
              "    <tr>\n",
              "      <th>...</th>\n",
              "      <td>...</td>\n",
              "      <td>...</td>\n",
              "      <td>...</td>\n",
              "      <td>...</td>\n",
              "      <td>...</td>\n",
              "      <td>...</td>\n",
              "      <td>...</td>\n",
              "    </tr>\n",
              "    <tr>\n",
              "      <th>878044</th>\n",
              "      <td>2003-01-06</td>\n",
              "      <td>Monday</td>\n",
              "      <td>TARAVAL</td>\n",
              "      <td>14</td>\n",
              "      <td>0.00</td>\n",
              "      <td>13</td>\n",
              "      <td>16.0</td>\n",
              "    </tr>\n",
              "    <tr>\n",
              "      <th>878045</th>\n",
              "      <td>2003-01-06</td>\n",
              "      <td>Monday</td>\n",
              "      <td>INGLESIDE</td>\n",
              "      <td>14</td>\n",
              "      <td>0.00</td>\n",
              "      <td>13</td>\n",
              "      <td>16.0</td>\n",
              "    </tr>\n",
              "    <tr>\n",
              "      <th>878046</th>\n",
              "      <td>2003-01-06</td>\n",
              "      <td>Monday</td>\n",
              "      <td>SOUTHERN</td>\n",
              "      <td>14</td>\n",
              "      <td>0.00</td>\n",
              "      <td>13</td>\n",
              "      <td>16.0</td>\n",
              "    </tr>\n",
              "    <tr>\n",
              "      <th>878047</th>\n",
              "      <td>2003-01-06</td>\n",
              "      <td>Monday</td>\n",
              "      <td>SOUTHERN</td>\n",
              "      <td>14</td>\n",
              "      <td>0.00</td>\n",
              "      <td>13</td>\n",
              "      <td>16.0</td>\n",
              "    </tr>\n",
              "    <tr>\n",
              "      <th>878048</th>\n",
              "      <td>2003-01-06</td>\n",
              "      <td>Monday</td>\n",
              "      <td>BAYVIEW</td>\n",
              "      <td>14</td>\n",
              "      <td>0.00</td>\n",
              "      <td>13</td>\n",
              "      <td>16.0</td>\n",
              "    </tr>\n",
              "  </tbody>\n",
              "</table>\n",
              "<p>878049 rows × 7 columns</p>\n",
              "</div>"
            ],
            "text/plain": [
              "             Dates  DayOfWeek  ... wind_speed (km/h)  visibility (km)\n",
              "0       2015-05-13  Wednesday  ...                19             40.0\n",
              "1       2015-05-13  Wednesday  ...                19             40.0\n",
              "2       2015-05-13  Wednesday  ...                19             40.0\n",
              "3       2015-05-13  Wednesday  ...                19             40.0\n",
              "4       2015-05-13  Wednesday  ...                19             40.0\n",
              "...            ...        ...  ...               ...              ...\n",
              "878044  2003-01-06     Monday  ...                13             16.0\n",
              "878045  2003-01-06     Monday  ...                13             16.0\n",
              "878046  2003-01-06     Monday  ...                13             16.0\n",
              "878047  2003-01-06     Monday  ...                13             16.0\n",
              "878048  2003-01-06     Monday  ...                13             16.0\n",
              "\n",
              "[878049 rows x 7 columns]"
            ]
          },
          "metadata": {
            "tags": []
          },
          "execution_count": 74
        }
      ]
    }
  ]
}