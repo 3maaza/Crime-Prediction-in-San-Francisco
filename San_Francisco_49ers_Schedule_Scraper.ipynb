{
  "nbformat": 4,
  "nbformat_minor": 0,
  "metadata": {
    "colab": {
      "name": "San Francisco 49ers Schedule Scraper.ipynb",
      "provenance": [],
      "authorship_tag": "ABX9TyMu3eiB1ja2QHV+XZ7XMWeR"
    },
    "kernelspec": {
      "name": "python3",
      "display_name": "Python 3"
    }
  },
  "cells": [
    {
      "cell_type": "code",
      "metadata": {
        "id": "GYkrvZt8o7CS",
        "colab_type": "code",
        "colab": {}
      },
      "source": [
        "import pandas as pd\n",
        "import numpy as np\n",
        "from bs4 import BeautifulSoup\n",
        "import requests"
      ],
      "execution_count": 0,
      "outputs": []
    },
    {
      "cell_type": "markdown",
      "metadata": {
        "id": "TxZpyFxGunep",
        "colab_type": "text"
      },
      "source": [
        "*   Pre season: http://www.nfl.com/schedules/2003/PRE/49ERS\n",
        "*   Regular season: http://www.nfl.com/schedules/2003/REG/49ers"
      ]
    },
    {
      "cell_type": "code",
      "metadata": {
        "id": "aj3SKgJ1qmlq",
        "colab_type": "code",
        "colab": {}
      },
      "source": [
        "response = requests.get(\"http://www.nfl.com/schedules/2003/REG/49ers\")\n",
        "results = []\n",
        "if(response.ok):\n",
        "  data = response.text\n",
        "  soup = BeautifulSoup(data)\n",
        "  months = soup.find_all(\"span\", class_=\"mon\")\n",
        "  months = [month.get_text() for month in months]\n",
        "  days = soup.find_all(\"span\", class_=\"day\")\n",
        "  days = [day.get_text() for day in days]\n",
        "  rows = soup.find_all(\"div\", class_=\"list-matchup-row-center\")\n",
        "  rows = [str(row) for row in rows if \"Bye\" not in str(row)]\n",
        "  for row in rows:\n",
        "    if \"time win\" in row:\n",
        "      results.append(\"Win\")\n",
        "    elif \"time lost\" in row:\n",
        "      results.append(\"Loss\")\n",
        "    else:\n",
        "      results.append(np.nan)"
      ],
      "execution_count": 0,
      "outputs": []
    }
  ]
}