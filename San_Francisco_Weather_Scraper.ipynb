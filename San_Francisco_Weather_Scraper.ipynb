{
  "nbformat": 4,
  "nbformat_minor": 0,
  "metadata": {
    "colab": {
      "name": "San Francisco Weather Scraper.ipynb",
      "provenance": [],
      "authorship_tag": "ABX9TyObmJ3spyA17nh3SFMdLLPx"
    },
    "kernelspec": {
      "name": "python3",
      "display_name": "Python 3"
    }
  },
  "cells": [
    {
      "cell_type": "code",
      "metadata": {
        "id": "6G3VI8_TzHR8",
        "colab_type": "code",
        "colab": {}
      },
      "source": [
        "import pandas as pd\n",
        "import numpy as np\n",
        "from datetime import datetime\n",
        "from bs4 import BeautifulSoup\n",
        "import requests"
      ],
      "execution_count": 0,
      "outputs": []
    },
    {
      "cell_type": "code",
      "metadata": {
        "id": "FBO5Kbil1X9u",
        "colab_type": "code",
        "colab": {}
      },
      "source": [
        "starting_date = \"01/01/2003\"\n",
        "end_date = \"13/05/2015\"\n",
        "#go through dates changing url parameters"
      ],
      "execution_count": 0,
      "outputs": []
    },
    {
      "cell_type": "code",
      "metadata": {
        "id": "0gt6ECrQzSEZ",
        "colab_type": "code",
        "colab": {}
      },
      "source": [
        "def get_weather(year, month, day):\n",
        "  response = requests.get(\"https://api.wunderground.com/history/airport/KSFO/\" + year + \"/\" + month + \"/\" + day + \"/DailyHistory.html\")\n",
        "  if(response.ok):\n",
        "    data = response.text\n",
        "    soup = BeautifulSoup(data)\n",
        "    values = soup.find_all(\"span\", class_=\"wx-value\")\n",
        "    values = [x.get_text() for x in values]\n",
        "    avg_temp = values[0]\n",
        "    precipitation = values[9]\n",
        "    wind_speed = values[13]\n",
        "    visibility = values[16]\n",
        "    moon_illumination = values[17]\n",
        "    #output info as df?"
      ],
      "execution_count": 0,
      "outputs": []
    }
  ]
}