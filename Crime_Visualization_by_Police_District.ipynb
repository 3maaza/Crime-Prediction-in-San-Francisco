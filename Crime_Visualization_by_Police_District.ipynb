{
  "nbformat": 4,
  "nbformat_minor": 0,
  "metadata": {
    "colab": {
      "name": "Crime Visualization by Police District.ipynb",
      "provenance": [],
      "authorship_tag": "ABX9TyP0IZd03Or1JB0jcgio0r8j"
    },
    "kernelspec": {
      "name": "python3",
      "display_name": "Python 3"
    }
  },
  "cells": [
    {
      "cell_type": "code",
      "metadata": {
        "id": "vDelgBhloumO",
        "colab_type": "code",
        "colab": {
          "base_uri": "https://localhost:8080/",
          "height": 492
        },
        "outputId": "25e02268-5e35-479e-8d15-8a482f8c44b1"
      },
      "source": [
        "!pip install geopandas"
      ],
      "execution_count": 6,
      "outputs": [
        {
          "output_type": "stream",
          "text": [
            "Collecting geopandas\n",
            "\u001b[?25l  Downloading https://files.pythonhosted.org/packages/5b/0c/e6c99e561b03482220f00443f610ccf4dce9b50f4b1093d735f93c6fc8c6/geopandas-0.6.2-py2.py3-none-any.whl (919kB)\n",
            "\u001b[K     |████████████████████████████████| 921kB 8.7MB/s \n",
            "\u001b[?25hRequirement already satisfied: shapely in /usr/local/lib/python3.6/dist-packages (from geopandas) (1.6.4.post2)\n",
            "Collecting pyproj\n",
            "\u001b[?25l  Downloading https://files.pythonhosted.org/packages/d6/70/eedc98cd52b86de24a1589c762612a98bea26cde649ffdd60c1db396cce8/pyproj-2.4.2.post1-cp36-cp36m-manylinux2010_x86_64.whl (10.1MB)\n",
            "\u001b[K     |████████████████████████████████| 10.1MB 17.7MB/s \n",
            "\u001b[?25hRequirement already satisfied: pandas>=0.23.0 in /usr/local/lib/python3.6/dist-packages (from geopandas) (0.25.3)\n",
            "Collecting fiona\n",
            "\u001b[?25l  Downloading https://files.pythonhosted.org/packages/50/f7/9899f8a9a2e38601472fe1079ce5088f58833221c8b8507d8b5eafd5404a/Fiona-1.8.13-cp36-cp36m-manylinux1_x86_64.whl (11.8MB)\n",
            "\u001b[K     |████████████████████████████████| 11.8MB 30.0MB/s \n",
            "\u001b[?25hRequirement already satisfied: numpy>=1.13.3 in /usr/local/lib/python3.6/dist-packages (from pandas>=0.23.0->geopandas) (1.17.5)\n",
            "Requirement already satisfied: python-dateutil>=2.6.1 in /usr/local/lib/python3.6/dist-packages (from pandas>=0.23.0->geopandas) (2.6.1)\n",
            "Requirement already satisfied: pytz>=2017.2 in /usr/local/lib/python3.6/dist-packages (from pandas>=0.23.0->geopandas) (2018.9)\n",
            "Requirement already satisfied: click<8,>=4.0 in /usr/local/lib/python3.6/dist-packages (from fiona->geopandas) (7.0)\n",
            "Collecting click-plugins>=1.0\n",
            "  Downloading https://files.pythonhosted.org/packages/e9/da/824b92d9942f4e472702488857914bdd50f73021efea15b4cad9aca8ecef/click_plugins-1.1.1-py2.py3-none-any.whl\n",
            "Requirement already satisfied: attrs>=17 in /usr/local/lib/python3.6/dist-packages (from fiona->geopandas) (19.3.0)\n",
            "Collecting cligj>=0.5\n",
            "  Downloading https://files.pythonhosted.org/packages/e4/be/30a58b4b0733850280d01f8bd132591b4668ed5c7046761098d665ac2174/cligj-0.5.0-py3-none-any.whl\n",
            "Requirement already satisfied: six>=1.7 in /usr/local/lib/python3.6/dist-packages (from fiona->geopandas) (1.12.0)\n",
            "Collecting munch\n",
            "  Downloading https://files.pythonhosted.org/packages/cc/ab/85d8da5c9a45e072301beb37ad7f833cd344e04c817d97e0cc75681d248f/munch-2.5.0-py2.py3-none-any.whl\n",
            "Installing collected packages: pyproj, click-plugins, cligj, munch, fiona, geopandas\n",
            "Successfully installed click-plugins-1.1.1 cligj-0.5.0 fiona-1.8.13 geopandas-0.6.2 munch-2.5.0 pyproj-2.4.2.post1\n"
          ],
          "name": "stdout"
        }
      ]
    },
    {
      "cell_type": "code",
      "metadata": {
        "id": "A6dVzpnnm7td",
        "colab_type": "code",
        "colab": {}
      },
      "source": [
        "%matplotlib inline\n",
        "import pandas as pd\n",
        "import numpy as np\n",
        "import matplotlib.pyplot as plt\n",
        "import geopandas as gpd\n",
        "from shapely.geometry import Point"
      ],
      "execution_count": 0,
      "outputs": []
    },
    {
      "cell_type": "code",
      "metadata": {
        "id": "7QRAJxtBm_bf",
        "colab_type": "code",
        "colab": {}
      },
      "source": [
        "data = pd.read_csv(\"train.csv\")"
      ],
      "execution_count": 0,
      "outputs": []
    },
    {
      "cell_type": "markdown",
      "metadata": {
        "id": "T8NiJRGfp8x3",
        "colab_type": "text"
      },
      "source": [
        "Remove unreasonable coordinates"
      ]
    },
    {
      "cell_type": "code",
      "metadata": {
        "id": "dFmTek11p53U",
        "colab_type": "code",
        "colab": {
          "base_uri": "https://localhost:8080/",
          "height": 35
        },
        "outputId": "e52b1e50-73f8-47fc-efff-3392b3d1acc4"
      },
      "source": [
        "data[\"X\"].min()"
      ],
      "execution_count": 32,
      "outputs": [
        {
          "output_type": "execute_result",
          "data": {
            "text/plain": [
              "-122.51364206429"
            ]
          },
          "metadata": {
            "tags": []
          },
          "execution_count": 32
        }
      ]
    },
    {
      "cell_type": "code",
      "metadata": {
        "id": "ir-hdonxqBxH",
        "colab_type": "code",
        "colab": {
          "base_uri": "https://localhost:8080/",
          "height": 35
        },
        "outputId": "e194d00d-7863-4de1-fcdb-9ce8169c211d"
      },
      "source": [
        "data[\"X\"].max()"
      ],
      "execution_count": 33,
      "outputs": [
        {
          "output_type": "execute_result",
          "data": {
            "text/plain": [
              "-120.5"
            ]
          },
          "metadata": {
            "tags": []
          },
          "execution_count": 33
        }
      ]
    },
    {
      "cell_type": "code",
      "metadata": {
        "id": "au38y3ZJqDbD",
        "colab_type": "code",
        "colab": {
          "base_uri": "https://localhost:8080/",
          "height": 35
        },
        "outputId": "fd8053ba-b73c-41e2-936f-33e7a5f01a4a"
      },
      "source": [
        "data[\"Y\"].min()"
      ],
      "execution_count": 34,
      "outputs": [
        {
          "output_type": "execute_result",
          "data": {
            "text/plain": [
              "37.7078790224135"
            ]
          },
          "metadata": {
            "tags": []
          },
          "execution_count": 34
        }
      ]
    },
    {
      "cell_type": "code",
      "metadata": {
        "id": "EzFK0jyyqFy_",
        "colab_type": "code",
        "colab": {
          "base_uri": "https://localhost:8080/",
          "height": 35
        },
        "outputId": "0ffe8797-130e-409f-f04a-bb06ae4d0180"
      },
      "source": [
        "data[\"Y\"].max()"
      ],
      "execution_count": 37,
      "outputs": [
        {
          "output_type": "execute_result",
          "data": {
            "text/plain": [
              "37.819975492297004"
            ]
          },
          "metadata": {
            "tags": []
          },
          "execution_count": 37
        }
      ]
    },
    {
      "cell_type": "code",
      "metadata": {
        "id": "kD8rIBmXqHpr",
        "colab_type": "code",
        "colab": {}
      },
      "source": [
        "data = data[data[\"Y\"] <= 40]"
      ],
      "execution_count": 0,
      "outputs": []
    },
    {
      "cell_type": "code",
      "metadata": {
        "id": "rb-hSn2epqzb",
        "colab_type": "code",
        "colab": {}
      },
      "source": [
        "data = data.sample(n=1000)"
      ],
      "execution_count": 0,
      "outputs": []
    },
    {
      "cell_type": "code",
      "metadata": {
        "id": "L7hVQoCSnizX",
        "colab_type": "code",
        "colab": {}
      },
      "source": [
        "data[\"points\"] = data.apply(lambda row: Point(row[\"X\"], row[\"Y\"]), axis=1)"
      ],
      "execution_count": 0,
      "outputs": []
    },
    {
      "cell_type": "code",
      "metadata": {
        "id": "eB-ZrkBrn6p8",
        "colab_type": "code",
        "colab": {
          "base_uri": "https://localhost:8080/",
          "height": 371
        },
        "outputId": "5308fba1-81e8-4367-9e4e-9db444092b49"
      },
      "source": [
        "data.head()"
      ],
      "execution_count": 41,
      "outputs": [
        {
          "output_type": "execute_result",
          "data": {
            "text/html": [
              "<div>\n",
              "<style scoped>\n",
              "    .dataframe tbody tr th:only-of-type {\n",
              "        vertical-align: middle;\n",
              "    }\n",
              "\n",
              "    .dataframe tbody tr th {\n",
              "        vertical-align: top;\n",
              "    }\n",
              "\n",
              "    .dataframe thead th {\n",
              "        text-align: right;\n",
              "    }\n",
              "</style>\n",
              "<table border=\"1\" class=\"dataframe\">\n",
              "  <thead>\n",
              "    <tr style=\"text-align: right;\">\n",
              "      <th></th>\n",
              "      <th>Dates</th>\n",
              "      <th>Category</th>\n",
              "      <th>Descript</th>\n",
              "      <th>DayOfWeek</th>\n",
              "      <th>PdDistrict</th>\n",
              "      <th>Resolution</th>\n",
              "      <th>Address</th>\n",
              "      <th>X</th>\n",
              "      <th>Y</th>\n",
              "      <th>points</th>\n",
              "    </tr>\n",
              "  </thead>\n",
              "  <tbody>\n",
              "    <tr>\n",
              "      <th>639742</th>\n",
              "      <td>2006-04-18 15:49:00</td>\n",
              "      <td>DRUG/NARCOTIC</td>\n",
              "      <td>SALE OF MARIJUANA</td>\n",
              "      <td>Tuesday</td>\n",
              "      <td>SOUTHERN</td>\n",
              "      <td>ARREST, BOOKED</td>\n",
              "      <td>1000 Block of MARKET ST</td>\n",
              "      <td>-122.411071</td>\n",
              "      <td>37.781751</td>\n",
              "      <td>POINT (-122.411071423064 37.7817511307229)</td>\n",
              "    </tr>\n",
              "    <tr>\n",
              "      <th>87690</th>\n",
              "      <td>2014-03-17 17:31:00</td>\n",
              "      <td>DRUG/NARCOTIC</td>\n",
              "      <td>POSSESSION OF METH-AMPHETAMINE</td>\n",
              "      <td>Monday</td>\n",
              "      <td>PARK</td>\n",
              "      <td>ARREST, BOOKED</td>\n",
              "      <td>800 Block of BUENAVISTAWEST AV</td>\n",
              "      <td>-122.442598</td>\n",
              "      <td>37.769312</td>\n",
              "      <td>POINT (-122.442597549743 37.7693116425317)</td>\n",
              "    </tr>\n",
              "    <tr>\n",
              "      <th>653486</th>\n",
              "      <td>2006-02-07 15:00:00</td>\n",
              "      <td>VANDALISM</td>\n",
              "      <td>MALICIOUS MISCHIEF, GRAFFITI</td>\n",
              "      <td>Tuesday</td>\n",
              "      <td>PARK</td>\n",
              "      <td>NONE</td>\n",
              "      <td>1200 Block of MASONIC AV</td>\n",
              "      <td>-122.445182</td>\n",
              "      <td>37.769736</td>\n",
              "      <td>POINT (-122.445181952651 37.76973596241511)</td>\n",
              "    </tr>\n",
              "    <tr>\n",
              "      <th>325021</th>\n",
              "      <td>2010-11-16 16:14:00</td>\n",
              "      <td>DRUG/NARCOTIC</td>\n",
              "      <td>POSSESSION OF CONTROLLED SUBSTANCE FOR SALE</td>\n",
              "      <td>Tuesday</td>\n",
              "      <td>INGLESIDE</td>\n",
              "      <td>ARREST, BOOKED</td>\n",
              "      <td>100 Block of HIGHLAND AV</td>\n",
              "      <td>-122.423541</td>\n",
              "      <td>37.737435</td>\n",
              "      <td>POINT (-122.42354064042 37.7374351380346)</td>\n",
              "    </tr>\n",
              "    <tr>\n",
              "      <th>439938</th>\n",
              "      <td>2009-03-05 15:00:00</td>\n",
              "      <td>NON-CRIMINAL</td>\n",
              "      <td>FOUND PROPERTY</td>\n",
              "      <td>Thursday</td>\n",
              "      <td>TENDERLOIN</td>\n",
              "      <td>NONE</td>\n",
              "      <td>300 Block of EDDY ST</td>\n",
              "      <td>-122.412931</td>\n",
              "      <td>37.783834</td>\n",
              "      <td>POINT (-122.412930522059 37.7838344374141)</td>\n",
              "    </tr>\n",
              "  </tbody>\n",
              "</table>\n",
              "</div>"
            ],
            "text/plain": [
              "                      Dates  ...                                       points\n",
              "639742  2006-04-18 15:49:00  ...   POINT (-122.411071423064 37.7817511307229)\n",
              "87690   2014-03-17 17:31:00  ...   POINT (-122.442597549743 37.7693116425317)\n",
              "653486  2006-02-07 15:00:00  ...  POINT (-122.445181952651 37.76973596241511)\n",
              "325021  2010-11-16 16:14:00  ...    POINT (-122.42354064042 37.7374351380346)\n",
              "439938  2009-03-05 15:00:00  ...   POINT (-122.412930522059 37.7838344374141)\n",
              "\n",
              "[5 rows x 10 columns]"
            ]
          },
          "metadata": {
            "tags": []
          },
          "execution_count": 41
        }
      ]
    },
    {
      "cell_type": "code",
      "metadata": {
        "id": "P5fhsogIn-GM",
        "colab_type": "code",
        "colab": {}
      },
      "source": [
        "geo_data = gpd.GeoDataFrame(data, geometry=\"points\")\n",
        "geo_data.crs = {\"init\": \"epsg:4326\"}"
      ],
      "execution_count": 0,
      "outputs": []
    },
    {
      "cell_type": "code",
      "metadata": {
        "id": "kmM8p1SToNdn",
        "colab_type": "code",
        "colab": {
          "base_uri": "https://localhost:8080/",
          "height": 265
        },
        "outputId": "f53acbc2-e2b1-453d-a8d7-a76957bc860e"
      },
      "source": [
        "geo_data.plot()\n",
        "plt.show()"
      ],
      "execution_count": 51,
      "outputs": [
        {
          "output_type": "display_data",
          "data": {
            "image/png": "[encoded data removed]",
            "text/plain": [
              "<Figure size 432x288 with 1 Axes>"
            ]
          },
          "metadata": {
            "tags": []
          }
        }
      ]
    },
    {
      "cell_type": "markdown",
      "metadata": {
        "id": "aP7k9BLtrsbq",
        "colab_type": "text"
      },
      "source": [
        "Police Department Districts"
      ]
    },
    {
      "cell_type": "code",
      "metadata": {
        "id": "UDz_tPoEqaQs",
        "colab_type": "code",
        "colab": {
          "base_uri": "https://localhost:8080/",
          "height": 72
        },
        "outputId": "4e8d06f5-db5c-48c1-e8f4-a24da04cc5fd"
      },
      "source": [
        "data[\"PdDistrict\"].unique()"
      ],
      "execution_count": 45,
      "outputs": [
        {
          "output_type": "execute_result",
          "data": {
            "text/plain": [
              "array(['SOUTHERN', 'PARK', 'INGLESIDE', 'TENDERLOIN', 'MISSION',\n",
              "       'CENTRAL', 'TARAVAL', 'NORTHERN', 'BAYVIEW', 'RICHMOND'],\n",
              "      dtype=object)"
            ]
          },
          "metadata": {
            "tags": []
          },
          "execution_count": 45
        }
      ]
    },
    {
      "cell_type": "code",
      "metadata": {
        "id": "T0_poJPIrG6L",
        "colab_type": "code",
        "colab": {}
      },
      "source": [
        "sfpd = gpd.read_file(\"current_police_districts.geojson\")"
      ],
      "execution_count": 0,
      "outputs": []
    },
    {
      "cell_type": "code",
      "metadata": {
        "id": "XCZUHRqarUDL",
        "colab_type": "code",
        "colab": {
          "base_uri": "https://localhost:8080/",
          "height": 198
        },
        "outputId": "8c01a59b-b49c-4ebe-c4a7-1a62a3c804a1"
      },
      "source": [
        "sfpd.head()"
      ],
      "execution_count": 47,
      "outputs": [
        {
          "output_type": "execute_result",
          "data": {
            "text/html": [
              "<div>\n",
              "<style scoped>\n",
              "    .dataframe tbody tr th:only-of-type {\n",
              "        vertical-align: middle;\n",
              "    }\n",
              "\n",
              "    .dataframe tbody tr th {\n",
              "        vertical-align: top;\n",
              "    }\n",
              "\n",
              "    .dataframe thead th {\n",
              "        text-align: right;\n",
              "    }\n",
              "</style>\n",
              "<table border=\"1\" class=\"dataframe\">\n",
              "  <thead>\n",
              "    <tr style=\"text-align: right;\">\n",
              "      <th></th>\n",
              "      <th>shape_area</th>\n",
              "      <th>shape_leng</th>\n",
              "      <th>company</th>\n",
              "      <th>shape_le_1</th>\n",
              "      <th>district</th>\n",
              "      <th>geometry</th>\n",
              "    </tr>\n",
              "  </thead>\n",
              "  <tbody>\n",
              "    <tr>\n",
              "      <th>0</th>\n",
              "      <td>91344142.1925</td>\n",
              "      <td>87550.2751419</td>\n",
              "      <td>B</td>\n",
              "      <td>100231.353916</td>\n",
              "      <td>SOUTHERN</td>\n",
              "      <td>MULTIPOLYGON (((-122.39186 37.79425, -122.3917...</td>\n",
              "    </tr>\n",
              "    <tr>\n",
              "      <th>1</th>\n",
              "      <td>201384622.317</td>\n",
              "      <td>163013.798332</td>\n",
              "      <td>C</td>\n",
              "      <td>144143.480351</td>\n",
              "      <td>BAYVIEW</td>\n",
              "      <td>MULTIPOLYGON (((-122.38098 37.76480, -122.3810...</td>\n",
              "    </tr>\n",
              "    <tr>\n",
              "      <th>2</th>\n",
              "      <td>80623839.7922</td>\n",
              "      <td>40152.783389</td>\n",
              "      <td>D</td>\n",
              "      <td>40518.8342346</td>\n",
              "      <td>MISSION</td>\n",
              "      <td>MULTIPOLYGON (((-122.40954 37.76932, -122.4086...</td>\n",
              "    </tr>\n",
              "    <tr>\n",
              "      <th>3</th>\n",
              "      <td>82781685.5603</td>\n",
              "      <td>56493.858208</td>\n",
              "      <td>E</td>\n",
              "      <td>50608.3103205</td>\n",
              "      <td>NORTHERN</td>\n",
              "      <td>MULTIPOLYGON (((-122.43379 37.80793, -122.4337...</td>\n",
              "    </tr>\n",
              "    <tr>\n",
              "      <th>4</th>\n",
              "      <td>11072154.5623</td>\n",
              "      <td>12424.2689691</td>\n",
              "      <td>J</td>\n",
              "      <td>18796.7841847</td>\n",
              "      <td>TENDERLOIN</td>\n",
              "      <td>MULTIPOLYGON (((-122.40217 37.78626, -122.4171...</td>\n",
              "    </tr>\n",
              "  </tbody>\n",
              "</table>\n",
              "</div>"
            ],
            "text/plain": [
              "      shape_area  ...                                           geometry\n",
              "0  91344142.1925  ...  MULTIPOLYGON (((-122.39186 37.79425, -122.3917...\n",
              "1  201384622.317  ...  MULTIPOLYGON (((-122.38098 37.76480, -122.3810...\n",
              "2  80623839.7922  ...  MULTIPOLYGON (((-122.40954 37.76932, -122.4086...\n",
              "3  82781685.5603  ...  MULTIPOLYGON (((-122.43379 37.80793, -122.4337...\n",
              "4  11072154.5623  ...  MULTIPOLYGON (((-122.40217 37.78626, -122.4171...\n",
              "\n",
              "[5 rows x 6 columns]"
            ]
          },
          "metadata": {
            "tags": []
          },
          "execution_count": 47
        }
      ]
    },
    {
      "cell_type": "code",
      "metadata": {
        "id": "KvaK5H-Wrc7l",
        "colab_type": "code",
        "colab": {
          "base_uri": "https://localhost:8080/",
          "height": 265
        },
        "outputId": "b61fedc6-7b2a-46c9-d821-79aa7601159f"
      },
      "source": [
        "sfpd.plot()\n",
        "plt.show()"
      ],
      "execution_count": 50,
      "outputs": [
        {
          "output_type": "display_data",
          "data": {
            "image/png": "[encoded data removed]",
            "text/plain": [
              "<Figure size 432x288 with 1 Axes>"
            ]
          },
          "metadata": {
            "tags": []
          }
        }
      ]
    },
    {
      "cell_type": "code",
      "metadata": {
        "id": "wgtvEgT4slnL",
        "colab_type": "code",
        "colab": {}
      },
      "source": [
        "sf_map = sf.plot(ax=ax, color='gray')\n",
        "geo_police_data.plot(ax=sf_map, marker=\"o\", mfc=\"red\", markersize=8, markeredgecolor=\"black\", alpha=0.3)\n",
        "ax.set_title(\"San Francisco incidents of crime\")\n",
        "plt.show()"
      ],
      "execution_count": 0,
      "outputs": []
    },
    {
      "cell_type": "markdown",
      "metadata": {
        "id": "qDLwE08LnoLe",
        "colab_type": "text"
      },
      "source": [
        "References:\n",
        "\n",
        "\n",
        "*   https://data.sfgov.org/Public-Safety/Current-Police-Districts/wkhw-cjsf\n",
        "\n"
      ]
    }
  ]
}