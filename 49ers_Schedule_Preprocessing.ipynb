{
  "nbformat": 4,
  "nbformat_minor": 0,
  "metadata": {
    "colab": {
      "name": "49ers Schedule Preprocessing.ipynb",
      "provenance": [],
      "authorship_tag": "ABX9TyN5hXKX5wkx5AHl7H3Fg06e"
    },
    "kernelspec": {
      "name": "python3",
      "display_name": "Python 3"
    }
  },
  "cells": [
    {
      "cell_type": "code",
      "metadata": {
        "id": "byQeYQGYz7AW",
        "colab_type": "code",
        "colab": {}
      },
      "source": [
        "import pandas as pd\n",
        "import numpy as np\n",
        "from zipfile import ZipFile"
      ],
      "execution_count": 0,
      "outputs": []
    },
    {
      "cell_type": "markdown",
      "metadata": {
        "id": "y9DCv1CV8NjD",
        "colab_type": "text"
      },
      "source": [
        "Function to consider January/February"
      ]
    },
    {
      "cell_type": "code",
      "metadata": {
        "id": "QVWhf-nY8OK5",
        "colab_type": "code",
        "colab": {}
      },
      "source": [
        ""
      ],
      "execution_count": 0,
      "outputs": []
    },
    {
      "cell_type": "markdown",
      "metadata": {
        "id": "sqBTJ8va4UBb",
        "colab_type": "text"
      },
      "source": [
        "### **2003 Season Preprocessing**"
      ]
    },
    {
      "cell_type": "code",
      "metadata": {
        "id": "S1I5-69s279d",
        "colab_type": "code",
        "colab": {
          "base_uri": "https://localhost:8080/",
          "height": 545
        },
        "outputId": "995214f2-525c-44fd-cbc3-9a68cfd5c448"
      },
      "source": [
        "s2003 = pd.read_csv(\"https://raw.githubusercontent.com/fescobar96/Crime-Prediction-in-San-Francisco/master/Data/2003.csv\", header=1)\n",
        "s2003.drop(s2003.columns[[0, 1,3,4,6,7,9,10,11,12,13,14,15,16,17,18,19,20,21,22,23,24]], axis=1, inplace=True )\n",
        "s2003[\"Year\"] = \"2003\"\n",
        "s2003[\"Date\"] = s2003[\"Date\"] + \", \" +s2003[\"Year\"]\n",
        "s2003.drop(columns=[\"Year\"], inplace=True)\n",
        "s2003.columns = [\"Date\", \"Output\", \"Home\"]\n",
        "s2003[\"Home\"].fillna(1, inplace=True)\n",
        "s2003.replace({\"@\":0}, inplace=True)\n",
        "s2003.dropna(inplace=True)\n",
        "s2003"
      ],
      "execution_count": 68,
      "outputs": [
        {
          "output_type": "execute_result",
          "data": {
            "text/html": [
              "<div>\n",
              "<style scoped>\n",
              "    .dataframe tbody tr th:only-of-type {\n",
              "        vertical-align: middle;\n",
              "    }\n",
              "\n",
              "    .dataframe tbody tr th {\n",
              "        vertical-align: top;\n",
              "    }\n",
              "\n",
              "    .dataframe thead th {\n",
              "        text-align: right;\n",
              "    }\n",
              "</style>\n",
              "<table border=\"1\" class=\"dataframe\">\n",
              "  <thead>\n",
              "    <tr style=\"text-align: right;\">\n",
              "      <th></th>\n",
              "      <th>Date</th>\n",
              "      <th>Output</th>\n",
              "      <th>Home</th>\n",
              "    </tr>\n",
              "  </thead>\n",
              "  <tbody>\n",
              "    <tr>\n",
              "      <th>0</th>\n",
              "      <td>September 7, 2003</td>\n",
              "      <td>W</td>\n",
              "      <td>1</td>\n",
              "    </tr>\n",
              "    <tr>\n",
              "      <th>1</th>\n",
              "      <td>September 14, 2003</td>\n",
              "      <td>L</td>\n",
              "      <td>0</td>\n",
              "    </tr>\n",
              "    <tr>\n",
              "      <th>2</th>\n",
              "      <td>September 21, 2003</td>\n",
              "      <td>L</td>\n",
              "      <td>1</td>\n",
              "    </tr>\n",
              "    <tr>\n",
              "      <th>3</th>\n",
              "      <td>September 28, 2003</td>\n",
              "      <td>L</td>\n",
              "      <td>0</td>\n",
              "    </tr>\n",
              "    <tr>\n",
              "      <th>4</th>\n",
              "      <td>October 5, 2003</td>\n",
              "      <td>W</td>\n",
              "      <td>1</td>\n",
              "    </tr>\n",
              "    <tr>\n",
              "      <th>5</th>\n",
              "      <td>October 12, 2003</td>\n",
              "      <td>L</td>\n",
              "      <td>0</td>\n",
              "    </tr>\n",
              "    <tr>\n",
              "      <th>6</th>\n",
              "      <td>October 19, 2003</td>\n",
              "      <td>W</td>\n",
              "      <td>1</td>\n",
              "    </tr>\n",
              "    <tr>\n",
              "      <th>7</th>\n",
              "      <td>October 26, 2003</td>\n",
              "      <td>L</td>\n",
              "      <td>0</td>\n",
              "    </tr>\n",
              "    <tr>\n",
              "      <th>8</th>\n",
              "      <td>November 2, 2003</td>\n",
              "      <td>W</td>\n",
              "      <td>1</td>\n",
              "    </tr>\n",
              "    <tr>\n",
              "      <th>10</th>\n",
              "      <td>November 17, 2003</td>\n",
              "      <td>W</td>\n",
              "      <td>1</td>\n",
              "    </tr>\n",
              "    <tr>\n",
              "      <th>11</th>\n",
              "      <td>November 23, 2003</td>\n",
              "      <td>L</td>\n",
              "      <td>0</td>\n",
              "    </tr>\n",
              "    <tr>\n",
              "      <th>12</th>\n",
              "      <td>November 30, 2003</td>\n",
              "      <td>L</td>\n",
              "      <td>0</td>\n",
              "    </tr>\n",
              "    <tr>\n",
              "      <th>13</th>\n",
              "      <td>December 7, 2003</td>\n",
              "      <td>W</td>\n",
              "      <td>1</td>\n",
              "    </tr>\n",
              "    <tr>\n",
              "      <th>14</th>\n",
              "      <td>December 14, 2003</td>\n",
              "      <td>L</td>\n",
              "      <td>0</td>\n",
              "    </tr>\n",
              "    <tr>\n",
              "      <th>15</th>\n",
              "      <td>December 21, 2003</td>\n",
              "      <td>W</td>\n",
              "      <td>0</td>\n",
              "    </tr>\n",
              "    <tr>\n",
              "      <th>16</th>\n",
              "      <td>December 27, 2003</td>\n",
              "      <td>L</td>\n",
              "      <td>1</td>\n",
              "    </tr>\n",
              "  </tbody>\n",
              "</table>\n",
              "</div>"
            ],
            "text/plain": [
              "                  Date Output  Home\n",
              "0    September 7, 2003      W     1\n",
              "1   September 14, 2003      L     0\n",
              "2   September 21, 2003      L     1\n",
              "3   September 28, 2003      L     0\n",
              "4      October 5, 2003      W     1\n",
              "5     October 12, 2003      L     0\n",
              "6     October 19, 2003      W     1\n",
              "7     October 26, 2003      L     0\n",
              "8     November 2, 2003      W     1\n",
              "10   November 17, 2003      W     1\n",
              "11   November 23, 2003      L     0\n",
              "12   November 30, 2003      L     0\n",
              "13    December 7, 2003      W     1\n",
              "14   December 14, 2003      L     0\n",
              "15   December 21, 2003      W     0\n",
              "16   December 27, 2003      L     1"
            ]
          },
          "metadata": {
            "tags": []
          },
          "execution_count": 68
        }
      ]
    },
    {
      "cell_type": "markdown",
      "metadata": {
        "colab_type": "text",
        "id": "duZBJ_AF72zL"
      },
      "source": [
        "### **2004 Season Preprocessing**"
      ]
    },
    {
      "cell_type": "code",
      "metadata": {
        "id": "ALo7-9J58AP8",
        "colab_type": "code",
        "colab": {
          "base_uri": "https://localhost:8080/",
          "height": 545
        },
        "outputId": "89bd0fe1-af1f-4444-9dc1-a6387acdfc60"
      },
      "source": [
        "s2004 = pd.read_csv(\"https://raw.githubusercontent.com/fescobar96/Crime-Prediction-in-San-Francisco/master/Data/2004.csv\", header=1)\n",
        "s2004.drop(s2004.columns[[0, 1,3,4,6,7,9,10,11,12,13,14,15,16,17,18,19,20,21,22,23,24]], axis=1, inplace=True )\n",
        "s2004[\"Year\"] = \"2004\"\n",
        "s2004[\"Date\"] = s2004[\"Date\"] + \", \" +s2004[\"Year\"]\n",
        "s2004.drop(columns=[\"Year\"], inplace=True)\n",
        "s2004.columns = [\"Date\", \"Output\", \"Home\"]\n",
        "s2004[\"Home\"].fillna(1, inplace=True)\n",
        "s2004.replace({\"@\":0}, inplace=True)\n",
        "s2004.dropna(inplace=True)\n",
        "s2004"
      ],
      "execution_count": 69,
      "outputs": [
        {
          "output_type": "execute_result",
          "data": {
            "text/html": [
              "<div>\n",
              "<style scoped>\n",
              "    .dataframe tbody tr th:only-of-type {\n",
              "        vertical-align: middle;\n",
              "    }\n",
              "\n",
              "    .dataframe tbody tr th {\n",
              "        vertical-align: top;\n",
              "    }\n",
              "\n",
              "    .dataframe thead th {\n",
              "        text-align: right;\n",
              "    }\n",
              "</style>\n",
              "<table border=\"1\" class=\"dataframe\">\n",
              "  <thead>\n",
              "    <tr style=\"text-align: right;\">\n",
              "      <th></th>\n",
              "      <th>Date</th>\n",
              "      <th>Output</th>\n",
              "      <th>Home</th>\n",
              "    </tr>\n",
              "  </thead>\n",
              "  <tbody>\n",
              "    <tr>\n",
              "      <th>0</th>\n",
              "      <td>September 12, 2004</td>\n",
              "      <td>L</td>\n",
              "      <td>1</td>\n",
              "    </tr>\n",
              "    <tr>\n",
              "      <th>1</th>\n",
              "      <td>September 19, 2004</td>\n",
              "      <td>L</td>\n",
              "      <td>0</td>\n",
              "    </tr>\n",
              "    <tr>\n",
              "      <th>2</th>\n",
              "      <td>September 26, 2004</td>\n",
              "      <td>L</td>\n",
              "      <td>0</td>\n",
              "    </tr>\n",
              "    <tr>\n",
              "      <th>3</th>\n",
              "      <td>October 3, 2004</td>\n",
              "      <td>L</td>\n",
              "      <td>1</td>\n",
              "    </tr>\n",
              "    <tr>\n",
              "      <th>4</th>\n",
              "      <td>October 10, 2004</td>\n",
              "      <td>W</td>\n",
              "      <td>1</td>\n",
              "    </tr>\n",
              "    <tr>\n",
              "      <th>5</th>\n",
              "      <td>October 17, 2004</td>\n",
              "      <td>L</td>\n",
              "      <td>0</td>\n",
              "    </tr>\n",
              "    <tr>\n",
              "      <th>7</th>\n",
              "      <td>October 31, 2004</td>\n",
              "      <td>L</td>\n",
              "      <td>0</td>\n",
              "    </tr>\n",
              "    <tr>\n",
              "      <th>8</th>\n",
              "      <td>November 7, 2004</td>\n",
              "      <td>L</td>\n",
              "      <td>1</td>\n",
              "    </tr>\n",
              "    <tr>\n",
              "      <th>9</th>\n",
              "      <td>November 14, 2004</td>\n",
              "      <td>L</td>\n",
              "      <td>1</td>\n",
              "    </tr>\n",
              "    <tr>\n",
              "      <th>10</th>\n",
              "      <td>November 21, 2004</td>\n",
              "      <td>L</td>\n",
              "      <td>0</td>\n",
              "    </tr>\n",
              "    <tr>\n",
              "      <th>11</th>\n",
              "      <td>November 28, 2004</td>\n",
              "      <td>L</td>\n",
              "      <td>1</td>\n",
              "    </tr>\n",
              "    <tr>\n",
              "      <th>12</th>\n",
              "      <td>December 5, 2004</td>\n",
              "      <td>L</td>\n",
              "      <td>0</td>\n",
              "    </tr>\n",
              "    <tr>\n",
              "      <th>13</th>\n",
              "      <td>December 12, 2004</td>\n",
              "      <td>W</td>\n",
              "      <td>0</td>\n",
              "    </tr>\n",
              "    <tr>\n",
              "      <th>14</th>\n",
              "      <td>December 18, 2004</td>\n",
              "      <td>L</td>\n",
              "      <td>1</td>\n",
              "    </tr>\n",
              "    <tr>\n",
              "      <th>15</th>\n",
              "      <td>December 26, 2004</td>\n",
              "      <td>L</td>\n",
              "      <td>1</td>\n",
              "    </tr>\n",
              "    <tr>\n",
              "      <th>16</th>\n",
              "      <td>January 2, 2004</td>\n",
              "      <td>L</td>\n",
              "      <td>0</td>\n",
              "    </tr>\n",
              "  </tbody>\n",
              "</table>\n",
              "</div>"
            ],
            "text/plain": [
              "                  Date Output  Home\n",
              "0   September 12, 2004      L     1\n",
              "1   September 19, 2004      L     0\n",
              "2   September 26, 2004      L     0\n",
              "3      October 3, 2004      L     1\n",
              "4     October 10, 2004      W     1\n",
              "5     October 17, 2004      L     0\n",
              "7     October 31, 2004      L     0\n",
              "8     November 7, 2004      L     1\n",
              "9    November 14, 2004      L     1\n",
              "10   November 21, 2004      L     0\n",
              "11   November 28, 2004      L     1\n",
              "12    December 5, 2004      L     0\n",
              "13   December 12, 2004      W     0\n",
              "14   December 18, 2004      L     1\n",
              "15   December 26, 2004      L     1\n",
              "16     January 2, 2004      L     0"
            ]
          },
          "metadata": {
            "tags": []
          },
          "execution_count": 69
        }
      ]
    },
    {
      "cell_type": "markdown",
      "metadata": {
        "colab_type": "text",
        "id": "TEFCNeNS73fJ"
      },
      "source": [
        "### **2005 Season Preprocessing**"
      ]
    },
    {
      "cell_type": "markdown",
      "metadata": {
        "colab_type": "text",
        "id": "_Ms0TIFQ73n4"
      },
      "source": [
        "### **2006 Season Preprocessing**"
      ]
    },
    {
      "cell_type": "markdown",
      "metadata": {
        "colab_type": "text",
        "id": "wdoPLR1J73sK"
      },
      "source": [
        "### **2007 Season Preprocessing**"
      ]
    },
    {
      "cell_type": "markdown",
      "metadata": {
        "colab_type": "text",
        "id": "sQZqzfAf73vd"
      },
      "source": [
        "### **2008 Season Preprocessing**"
      ]
    },
    {
      "cell_type": "markdown",
      "metadata": {
        "colab_type": "text",
        "id": "c_XO1ub273yq"
      },
      "source": [
        "### **2003 Season Preprocessing**"
      ]
    },
    {
      "cell_type": "markdown",
      "metadata": {
        "colab_type": "text",
        "id": "_z_tL57X731a"
      },
      "source": [
        "### **2003 Season Preprocessing**"
      ]
    },
    {
      "cell_type": "markdown",
      "metadata": {
        "colab_type": "text",
        "id": "hIt3i8LU734p"
      },
      "source": [
        "### **2003 Season Preprocessing**"
      ]
    },
    {
      "cell_type": "markdown",
      "metadata": {
        "colab_type": "text",
        "id": "m5roRdom737p"
      },
      "source": [
        "### **2003 Season Preprocessing**"
      ]
    },
    {
      "cell_type": "markdown",
      "metadata": {
        "colab_type": "text",
        "id": "aVv4l-7q73-p"
      },
      "source": [
        "### **2003 Season Preprocessing**"
      ]
    },
    {
      "cell_type": "markdown",
      "metadata": {
        "id": "kB_aChik7vD0",
        "colab_type": "text"
      },
      "source": [
        "### **2003 Season Preprocessing**"
      ]
    }
  ]
}