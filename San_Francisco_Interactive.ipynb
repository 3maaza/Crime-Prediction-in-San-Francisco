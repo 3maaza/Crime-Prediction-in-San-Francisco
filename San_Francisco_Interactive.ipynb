{
  "nbformat": 4,
  "nbformat_minor": 0,
  "metadata": {
    "colab": {
      "name": "San Francisco Interactive.ipynb",
      "provenance": [],
      "authorship_tag": "ABX9TyM50P4C8bjw/cT1gt6E3nUv"
    },
    "kernelspec": {
      "name": "python3",
      "display_name": "Python 3"
    }
  },
  "cells": [
    {
      "cell_type": "code",
      "metadata": {
        "id": "xqBTP_tV4vwi",
        "colab_type": "code",
        "outputId": "a5449548-e36d-4090-8c8f-01e5a15d1092",
        "colab": {
          "base_uri": "https://localhost:8080/",
          "height": 492
        }
      },
      "source": [
        "!pip install geopandas"
      ],
      "execution_count": 1,
      "outputs": [
        {
          "output_type": "stream",
          "text": [
            "Collecting geopandas\n",
            "\u001b[?25l  Downloading https://files.pythonhosted.org/packages/5b/0c/e6c99e561b03482220f00443f610ccf4dce9b50f4b1093d735f93c6fc8c6/geopandas-0.6.2-py2.py3-none-any.whl (919kB)\n",
            "\r\u001b[K     |▍                               | 10kB 17.9MB/s eta 0:00:01\r\u001b[K     |▊                               | 20kB 2.2MB/s eta 0:00:01\r\u001b[K     |█                               | 30kB 3.2MB/s eta 0:00:01\r\u001b[K     |█▍                              | 40kB 2.1MB/s eta 0:00:01\r\u001b[K     |█▉                              | 51kB 2.5MB/s eta 0:00:01\r\u001b[K     |██▏                             | 61kB 3.0MB/s eta 0:00:01\r\u001b[K     |██▌                             | 71kB 3.5MB/s eta 0:00:01\r\u001b[K     |██▉                             | 81kB 3.9MB/s eta 0:00:01\r\u001b[K     |███▏                            | 92kB 4.4MB/s eta 0:00:01\r\u001b[K     |███▋                            | 102kB 3.4MB/s eta 0:00:01\r\u001b[K     |████                            | 112kB 3.4MB/s eta 0:00:01\r\u001b[K     |████▎                           | 122kB 3.4MB/s eta 0:00:01\r\u001b[K     |████▋                           | 133kB 3.4MB/s eta 0:00:01\r\u001b[K     |█████                           | 143kB 3.4MB/s eta 0:00:01\r\u001b[K     |█████▍                          | 153kB 3.4MB/s eta 0:00:01\r\u001b[K     |█████▊                          | 163kB 3.4MB/s eta 0:00:01\r\u001b[K     |██████                          | 174kB 3.4MB/s eta 0:00:01\r\u001b[K     |██████▍                         | 184kB 3.4MB/s eta 0:00:01\r\u001b[K     |██████▊                         | 194kB 3.4MB/s eta 0:00:01\r\u001b[K     |███████▏                        | 204kB 3.4MB/s eta 0:00:01\r\u001b[K     |███████▌                        | 215kB 3.4MB/s eta 0:00:01\r\u001b[K     |███████▉                        | 225kB 3.4MB/s eta 0:00:01\r\u001b[K     |████████▏                       | 235kB 3.4MB/s eta 0:00:01\r\u001b[K     |████████▌                       | 245kB 3.4MB/s eta 0:00:01\r\u001b[K     |█████████                       | 256kB 3.4MB/s eta 0:00:01\r\u001b[K     |█████████▎                      | 266kB 3.4MB/s eta 0:00:01\r\u001b[K     |█████████▋                      | 276kB 3.4MB/s eta 0:00:01\r\u001b[K     |██████████                      | 286kB 3.4MB/s eta 0:00:01\r\u001b[K     |██████████▎                     | 296kB 3.4MB/s eta 0:00:01\r\u001b[K     |██████████▊                     | 307kB 3.4MB/s eta 0:00:01\r\u001b[K     |███████████                     | 317kB 3.4MB/s eta 0:00:01\r\u001b[K     |███████████▍                    | 327kB 3.4MB/s eta 0:00:01\r\u001b[K     |███████████▊                    | 337kB 3.4MB/s eta 0:00:01\r\u001b[K     |████████████                    | 348kB 3.4MB/s eta 0:00:01\r\u001b[K     |████████████▌                   | 358kB 3.4MB/s eta 0:00:01\r\u001b[K     |████████████▉                   | 368kB 3.4MB/s eta 0:00:01\r\u001b[K     |█████████████▏                  | 378kB 3.4MB/s eta 0:00:01\r\u001b[K     |█████████████▌                  | 389kB 3.4MB/s eta 0:00:01\r\u001b[K     |██████████████                  | 399kB 3.4MB/s eta 0:00:01\r\u001b[K     |██████████████▎                 | 409kB 3.4MB/s eta 0:00:01\r\u001b[K     |██████████████▋                 | 419kB 3.4MB/s eta 0:00:01\r\u001b[K     |███████████████                 | 430kB 3.4MB/s eta 0:00:01\r\u001b[K     |███████████████▎                | 440kB 3.4MB/s eta 0:00:01\r\u001b[K     |███████████████▊                | 450kB 3.4MB/s eta 0:00:01\r\u001b[K     |████████████████                | 460kB 3.4MB/s eta 0:00:01\r\u001b[K     |████████████████▍               | 471kB 3.4MB/s eta 0:00:01\r\u001b[K     |████████████████▊               | 481kB 3.4MB/s eta 0:00:01\r\u001b[K     |█████████████████               | 491kB 3.4MB/s eta 0:00:01\r\u001b[K     |█████████████████▌              | 501kB 3.4MB/s eta 0:00:01\r\u001b[K     |█████████████████▉              | 512kB 3.4MB/s eta 0:00:01\r\u001b[K     |██████████████████▏             | 522kB 3.4MB/s eta 0:00:01\r\u001b[K     |██████████████████▌             | 532kB 3.4MB/s eta 0:00:01\r\u001b[K     |██████████████████▉             | 542kB 3.4MB/s eta 0:00:01\r\u001b[K     |███████████████████▎            | 552kB 3.4MB/s eta 0:00:01\r\u001b[K     |███████████████████▋            | 563kB 3.4MB/s eta 0:00:01\r\u001b[K     |████████████████████            | 573kB 3.4MB/s eta 0:00:01\r\u001b[K     |████████████████████▎           | 583kB 3.4MB/s eta 0:00:01\r\u001b[K     |████████████████████▋           | 593kB 3.4MB/s eta 0:00:01\r\u001b[K     |█████████████████████           | 604kB 3.4MB/s eta 0:00:01\r\u001b[K     |█████████████████████▍          | 614kB 3.4MB/s eta 0:00:01\r\u001b[K     |█████████████████████▊          | 624kB 3.4MB/s eta 0:00:01\r\u001b[K     |██████████████████████          | 634kB 3.4MB/s eta 0:00:01\r\u001b[K     |██████████████████████▍         | 645kB 3.4MB/s eta 0:00:01\r\u001b[K     |██████████████████████▉         | 655kB 3.4MB/s eta 0:00:01\r\u001b[K     |███████████████████████▏        | 665kB 3.4MB/s eta 0:00:01\r\u001b[K     |███████████████████████▌        | 675kB 3.4MB/s eta 0:00:01\r\u001b[K     |███████████████████████▉        | 686kB 3.4MB/s eta 0:00:01\r\u001b[K     |████████████████████████▏       | 696kB 3.4MB/s eta 0:00:01\r\u001b[K     |████████████████████████▋       | 706kB 3.4MB/s eta 0:00:01\r\u001b[K     |█████████████████████████       | 716kB 3.4MB/s eta 0:00:01\r\u001b[K     |█████████████████████████▎      | 727kB 3.4MB/s eta 0:00:01\r\u001b[K     |█████████████████████████▋      | 737kB 3.4MB/s eta 0:00:01\r\u001b[K     |██████████████████████████      | 747kB 3.4MB/s eta 0:00:01\r\u001b[K     |██████████████████████████▍     | 757kB 3.4MB/s eta 0:00:01\r\u001b[K     |██████████████████████████▊     | 768kB 3.4MB/s eta 0:00:01\r\u001b[K     |███████████████████████████     | 778kB 3.4MB/s eta 0:00:01\r\u001b[K     |███████████████████████████▍    | 788kB 3.4MB/s eta 0:00:01\r\u001b[K     |███████████████████████████▉    | 798kB 3.4MB/s eta 0:00:01\r\u001b[K     |████████████████████████████▏   | 808kB 3.4MB/s eta 0:00:01\r\u001b[K     |████████████████████████████▌   | 819kB 3.4MB/s eta 0:00:01\r\u001b[K     |████████████████████████████▉   | 829kB 3.4MB/s eta 0:00:01\r\u001b[K     |█████████████████████████████▏  | 839kB 3.4MB/s eta 0:00:01\r\u001b[K     |█████████████████████████████▋  | 849kB 3.4MB/s eta 0:00:01\r\u001b[K     |██████████████████████████████  | 860kB 3.4MB/s eta 0:00:01\r\u001b[K     |██████████████████████████████▎ | 870kB 3.4MB/s eta 0:00:01\r\u001b[K     |██████████████████████████████▋ | 880kB 3.4MB/s eta 0:00:01\r\u001b[K     |███████████████████████████████ | 890kB 3.4MB/s eta 0:00:01\r\u001b[K     |███████████████████████████████▍| 901kB 3.4MB/s eta 0:00:01\r\u001b[K     |███████████████████████████████▊| 911kB 3.4MB/s eta 0:00:01\r\u001b[K     |████████████████████████████████| 921kB 3.4MB/s \n",
            "\u001b[?25hRequirement already satisfied: shapely in /usr/local/lib/python3.6/dist-packages (from geopandas) (1.6.4.post2)\n",
            "Collecting pyproj\n",
            "\u001b[?25l  Downloading https://files.pythonhosted.org/packages/d6/70/eedc98cd52b86de24a1589c762612a98bea26cde649ffdd60c1db396cce8/pyproj-2.4.2.post1-cp36-cp36m-manylinux2010_x86_64.whl (10.1MB)\n",
            "\u001b[K     |████████████████████████████████| 10.1MB 34.0MB/s \n",
            "\u001b[?25hCollecting fiona\n",
            "\u001b[?25l  Downloading https://files.pythonhosted.org/packages/50/f7/9899f8a9a2e38601472fe1079ce5088f58833221c8b8507d8b5eafd5404a/Fiona-1.8.13-cp36-cp36m-manylinux1_x86_64.whl (11.8MB)\n",
            "\u001b[K     |████████████████████████████████| 11.8MB 29.7MB/s \n",
            "\u001b[?25hRequirement already satisfied: pandas>=0.23.0 in /usr/local/lib/python3.6/dist-packages (from geopandas) (0.25.3)\n",
            "Requirement already satisfied: attrs>=17 in /usr/local/lib/python3.6/dist-packages (from fiona->geopandas) (19.3.0)\n",
            "Collecting cligj>=0.5\n",
            "  Downloading https://files.pythonhosted.org/packages/e4/be/30a58b4b0733850280d01f8bd132591b4668ed5c7046761098d665ac2174/cligj-0.5.0-py3-none-any.whl\n",
            "Collecting click-plugins>=1.0\n",
            "  Downloading https://files.pythonhosted.org/packages/e9/da/824b92d9942f4e472702488857914bdd50f73021efea15b4cad9aca8ecef/click_plugins-1.1.1-py2.py3-none-any.whl\n",
            "Requirement already satisfied: click<8,>=4.0 in /usr/local/lib/python3.6/dist-packages (from fiona->geopandas) (7.0)\n",
            "Collecting munch\n",
            "  Downloading https://files.pythonhosted.org/packages/cc/ab/85d8da5c9a45e072301beb37ad7f833cd344e04c817d97e0cc75681d248f/munch-2.5.0-py2.py3-none-any.whl\n",
            "Requirement already satisfied: six>=1.7 in /usr/local/lib/python3.6/dist-packages (from fiona->geopandas) (1.12.0)\n",
            "Requirement already satisfied: numpy>=1.13.3 in /usr/local/lib/python3.6/dist-packages (from pandas>=0.23.0->geopandas) (1.17.5)\n",
            "Requirement already satisfied: python-dateutil>=2.6.1 in /usr/local/lib/python3.6/dist-packages (from pandas>=0.23.0->geopandas) (2.6.1)\n",
            "Requirement already satisfied: pytz>=2017.2 in /usr/local/lib/python3.6/dist-packages (from pandas>=0.23.0->geopandas) (2018.9)\n",
            "Installing collected packages: pyproj, cligj, click-plugins, munch, fiona, geopandas\n",
            "Successfully installed click-plugins-1.1.1 cligj-0.5.0 fiona-1.8.13 geopandas-0.6.2 munch-2.5.0 pyproj-2.4.2.post1\n"
          ],
          "name": "stdout"
        }
      ]
    },
    {
      "cell_type": "code",
      "metadata": {
        "id": "HpM7Y5bp4mFq",
        "colab_type": "code",
        "colab": {}
      },
      "source": [
        "import pandas as pd\n",
        "import numpy as np\n",
        "import geopandas as gpd\n",
        "import folium\n",
        "import branca.colormap as cm\n",
        "import datetime as dt"
      ],
      "execution_count": 0,
      "outputs": []
    },
    {
      "cell_type": "code",
      "metadata": {
        "id": "hkJUyWVq7tLn",
        "colab_type": "code",
        "colab": {}
      },
      "source": [
        "data = pd.read_csv(\"train.csv\")"
      ],
      "execution_count": 0,
      "outputs": []
    },
    {
      "cell_type": "code",
      "metadata": {
        "id": "EqTKaOqL9TNG",
        "colab_type": "code",
        "colab": {}
      },
      "source": [
        "data[\"Dates\"] = pd.to_datetime(data[\"Dates\"])\n",
        "data[\"Year\"] = data[\"Dates\"].dt.year\n",
        "data[\"Month\"] = data[\"Dates\"].dt.month\n",
        "data[\"Day\"] = data[\"Dates\"].dt.day"
      ],
      "execution_count": 0,
      "outputs": []
    },
    {
      "cell_type": "code",
      "metadata": {
        "id": "75hvzoAU8XRK",
        "colab_type": "code",
        "outputId": "a408e4f8-ffed-473d-8905-2ec93dac069f",
        "colab": {
          "base_uri": "https://localhost:8080/",
          "height": 285
        }
      },
      "source": [
        "data.head()"
      ],
      "execution_count": 5,
      "outputs": [
        {
          "output_type": "execute_result",
          "data": {
            "text/html": [
              "<div>\n",
              "<style scoped>\n",
              "    .dataframe tbody tr th:only-of-type {\n",
              "        vertical-align: middle;\n",
              "    }\n",
              "\n",
              "    .dataframe tbody tr th {\n",
              "        vertical-align: top;\n",
              "    }\n",
              "\n",
              "    .dataframe thead th {\n",
              "        text-align: right;\n",
              "    }\n",
              "</style>\n",
              "<table border=\"1\" class=\"dataframe\">\n",
              "  <thead>\n",
              "    <tr style=\"text-align: right;\">\n",
              "      <th></th>\n",
              "      <th>Dates</th>\n",
              "      <th>Category</th>\n",
              "      <th>Descript</th>\n",
              "      <th>DayOfWeek</th>\n",
              "      <th>PdDistrict</th>\n",
              "      <th>Resolution</th>\n",
              "      <th>Address</th>\n",
              "      <th>X</th>\n",
              "      <th>Y</th>\n",
              "      <th>Year</th>\n",
              "      <th>Month</th>\n",
              "      <th>Day</th>\n",
              "    </tr>\n",
              "  </thead>\n",
              "  <tbody>\n",
              "    <tr>\n",
              "      <th>0</th>\n",
              "      <td>2015-05-13 23:53:00</td>\n",
              "      <td>WARRANTS</td>\n",
              "      <td>WARRANT ARREST</td>\n",
              "      <td>Wednesday</td>\n",
              "      <td>NORTHERN</td>\n",
              "      <td>ARREST, BOOKED</td>\n",
              "      <td>OAK ST / LAGUNA ST</td>\n",
              "      <td>-122.425892</td>\n",
              "      <td>37.774599</td>\n",
              "      <td>2015</td>\n",
              "      <td>5</td>\n",
              "      <td>13</td>\n",
              "    </tr>\n",
              "    <tr>\n",
              "      <th>1</th>\n",
              "      <td>2015-05-13 23:53:00</td>\n",
              "      <td>OTHER OFFENSES</td>\n",
              "      <td>TRAFFIC VIOLATION ARREST</td>\n",
              "      <td>Wednesday</td>\n",
              "      <td>NORTHERN</td>\n",
              "      <td>ARREST, BOOKED</td>\n",
              "      <td>OAK ST / LAGUNA ST</td>\n",
              "      <td>-122.425892</td>\n",
              "      <td>37.774599</td>\n",
              "      <td>2015</td>\n",
              "      <td>5</td>\n",
              "      <td>13</td>\n",
              "    </tr>\n",
              "    <tr>\n",
              "      <th>2</th>\n",
              "      <td>2015-05-13 23:33:00</td>\n",
              "      <td>OTHER OFFENSES</td>\n",
              "      <td>TRAFFIC VIOLATION ARREST</td>\n",
              "      <td>Wednesday</td>\n",
              "      <td>NORTHERN</td>\n",
              "      <td>ARREST, BOOKED</td>\n",
              "      <td>VANNESS AV / GREENWICH ST</td>\n",
              "      <td>-122.424363</td>\n",
              "      <td>37.800414</td>\n",
              "      <td>2015</td>\n",
              "      <td>5</td>\n",
              "      <td>13</td>\n",
              "    </tr>\n",
              "    <tr>\n",
              "      <th>3</th>\n",
              "      <td>2015-05-13 23:30:00</td>\n",
              "      <td>LARCENY/THEFT</td>\n",
              "      <td>GRAND THEFT FROM LOCKED AUTO</td>\n",
              "      <td>Wednesday</td>\n",
              "      <td>NORTHERN</td>\n",
              "      <td>NONE</td>\n",
              "      <td>1500 Block of LOMBARD ST</td>\n",
              "      <td>-122.426995</td>\n",
              "      <td>37.800873</td>\n",
              "      <td>2015</td>\n",
              "      <td>5</td>\n",
              "      <td>13</td>\n",
              "    </tr>\n",
              "    <tr>\n",
              "      <th>4</th>\n",
              "      <td>2015-05-13 23:30:00</td>\n",
              "      <td>LARCENY/THEFT</td>\n",
              "      <td>GRAND THEFT FROM LOCKED AUTO</td>\n",
              "      <td>Wednesday</td>\n",
              "      <td>PARK</td>\n",
              "      <td>NONE</td>\n",
              "      <td>100 Block of BRODERICK ST</td>\n",
              "      <td>-122.438738</td>\n",
              "      <td>37.771541</td>\n",
              "      <td>2015</td>\n",
              "      <td>5</td>\n",
              "      <td>13</td>\n",
              "    </tr>\n",
              "  </tbody>\n",
              "</table>\n",
              "</div>"
            ],
            "text/plain": [
              "                Dates        Category  ... Month Day\n",
              "0 2015-05-13 23:53:00        WARRANTS  ...     5  13\n",
              "1 2015-05-13 23:53:00  OTHER OFFENSES  ...     5  13\n",
              "2 2015-05-13 23:33:00  OTHER OFFENSES  ...     5  13\n",
              "3 2015-05-13 23:30:00   LARCENY/THEFT  ...     5  13\n",
              "4 2015-05-13 23:30:00   LARCENY/THEFT  ...     5  13\n",
              "\n",
              "[5 rows x 12 columns]"
            ]
          },
          "metadata": {
            "tags": []
          },
          "execution_count": 5
        }
      ]
    },
    {
      "cell_type": "code",
      "metadata": {
        "id": "f2KKgz0F8yYm",
        "colab_type": "code",
        "outputId": "6ca70c0c-ae66-48b4-e0c8-8c69d3444562",
        "colab": {
          "base_uri": "https://localhost:8080/",
          "height": 198
        }
      },
      "source": [
        "map_test = data.copy()\n",
        "map_test = map_test[map_test[\"Year\"] == 2015]\n",
        "map_test = map_test[map_test[\"Month\"] == 1]\n",
        "map_test = map_test[map_test[\"Day\"] == 5]\n",
        "map_test = data.drop(columns=[\"Descript\", \"DayOfWeek\", \"Resolution\", \"Address\"])\n",
        "map_test.head()"
      ],
      "execution_count": 6,
      "outputs": [
        {
          "output_type": "execute_result",
          "data": {
            "text/html": [
              "<div>\n",
              "<style scoped>\n",
              "    .dataframe tbody tr th:only-of-type {\n",
              "        vertical-align: middle;\n",
              "    }\n",
              "\n",
              "    .dataframe tbody tr th {\n",
              "        vertical-align: top;\n",
              "    }\n",
              "\n",
              "    .dataframe thead th {\n",
              "        text-align: right;\n",
              "    }\n",
              "</style>\n",
              "<table border=\"1\" class=\"dataframe\">\n",
              "  <thead>\n",
              "    <tr style=\"text-align: right;\">\n",
              "      <th></th>\n",
              "      <th>Dates</th>\n",
              "      <th>Category</th>\n",
              "      <th>PdDistrict</th>\n",
              "      <th>X</th>\n",
              "      <th>Y</th>\n",
              "      <th>Year</th>\n",
              "      <th>Month</th>\n",
              "      <th>Day</th>\n",
              "    </tr>\n",
              "  </thead>\n",
              "  <tbody>\n",
              "    <tr>\n",
              "      <th>0</th>\n",
              "      <td>2015-05-13 23:53:00</td>\n",
              "      <td>WARRANTS</td>\n",
              "      <td>NORTHERN</td>\n",
              "      <td>-122.425892</td>\n",
              "      <td>37.774599</td>\n",
              "      <td>2015</td>\n",
              "      <td>5</td>\n",
              "      <td>13</td>\n",
              "    </tr>\n",
              "    <tr>\n",
              "      <th>1</th>\n",
              "      <td>2015-05-13 23:53:00</td>\n",
              "      <td>OTHER OFFENSES</td>\n",
              "      <td>NORTHERN</td>\n",
              "      <td>-122.425892</td>\n",
              "      <td>37.774599</td>\n",
              "      <td>2015</td>\n",
              "      <td>5</td>\n",
              "      <td>13</td>\n",
              "    </tr>\n",
              "    <tr>\n",
              "      <th>2</th>\n",
              "      <td>2015-05-13 23:33:00</td>\n",
              "      <td>OTHER OFFENSES</td>\n",
              "      <td>NORTHERN</td>\n",
              "      <td>-122.424363</td>\n",
              "      <td>37.800414</td>\n",
              "      <td>2015</td>\n",
              "      <td>5</td>\n",
              "      <td>13</td>\n",
              "    </tr>\n",
              "    <tr>\n",
              "      <th>3</th>\n",
              "      <td>2015-05-13 23:30:00</td>\n",
              "      <td>LARCENY/THEFT</td>\n",
              "      <td>NORTHERN</td>\n",
              "      <td>-122.426995</td>\n",
              "      <td>37.800873</td>\n",
              "      <td>2015</td>\n",
              "      <td>5</td>\n",
              "      <td>13</td>\n",
              "    </tr>\n",
              "    <tr>\n",
              "      <th>4</th>\n",
              "      <td>2015-05-13 23:30:00</td>\n",
              "      <td>LARCENY/THEFT</td>\n",
              "      <td>PARK</td>\n",
              "      <td>-122.438738</td>\n",
              "      <td>37.771541</td>\n",
              "      <td>2015</td>\n",
              "      <td>5</td>\n",
              "      <td>13</td>\n",
              "    </tr>\n",
              "  </tbody>\n",
              "</table>\n",
              "</div>"
            ],
            "text/plain": [
              "                Dates        Category PdDistrict  ...  Year  Month  Day\n",
              "0 2015-05-13 23:53:00        WARRANTS   NORTHERN  ...  2015      5   13\n",
              "1 2015-05-13 23:53:00  OTHER OFFENSES   NORTHERN  ...  2015      5   13\n",
              "2 2015-05-13 23:33:00  OTHER OFFENSES   NORTHERN  ...  2015      5   13\n",
              "3 2015-05-13 23:30:00   LARCENY/THEFT   NORTHERN  ...  2015      5   13\n",
              "4 2015-05-13 23:30:00   LARCENY/THEFT       PARK  ...  2015      5   13\n",
              "\n",
              "[5 rows x 8 columns]"
            ]
          },
          "metadata": {
            "tags": []
          },
          "execution_count": 6
        }
      ]
    },
    {
      "cell_type": "code",
      "metadata": {
        "id": "MYGyeOY06DVz",
        "colab_type": "code",
        "colab": {}
      },
      "source": [
        "sfpd = gpd.read_file(\"current_police_districts.geojson\")"
      ],
      "execution_count": 0,
      "outputs": []
    },
    {
      "cell_type": "code",
      "metadata": {
        "id": "KDgZcg4l67KB",
        "colab_type": "code",
        "outputId": "b4c8e19c-546a-447a-9b7d-87b581741b28",
        "colab": {
          "base_uri": "https://localhost:8080/",
          "height": 198
        }
      },
      "source": [
        "sfpd=sfpd[[\"district\",\"geometry\"]]\n",
        "sfpd.head()"
      ],
      "execution_count": 8,
      "outputs": [
        {
          "output_type": "execute_result",
          "data": {
            "text/html": [
              "<div>\n",
              "<style scoped>\n",
              "    .dataframe tbody tr th:only-of-type {\n",
              "        vertical-align: middle;\n",
              "    }\n",
              "\n",
              "    .dataframe tbody tr th {\n",
              "        vertical-align: top;\n",
              "    }\n",
              "\n",
              "    .dataframe thead th {\n",
              "        text-align: right;\n",
              "    }\n",
              "</style>\n",
              "<table border=\"1\" class=\"dataframe\">\n",
              "  <thead>\n",
              "    <tr style=\"text-align: right;\">\n",
              "      <th></th>\n",
              "      <th>district</th>\n",
              "      <th>geometry</th>\n",
              "    </tr>\n",
              "  </thead>\n",
              "  <tbody>\n",
              "    <tr>\n",
              "      <th>0</th>\n",
              "      <td>SOUTHERN</td>\n",
              "      <td>MULTIPOLYGON (((-122.39186 37.79425, -122.3917...</td>\n",
              "    </tr>\n",
              "    <tr>\n",
              "      <th>1</th>\n",
              "      <td>BAYVIEW</td>\n",
              "      <td>MULTIPOLYGON (((-122.38098 37.76480, -122.3810...</td>\n",
              "    </tr>\n",
              "    <tr>\n",
              "      <th>2</th>\n",
              "      <td>MISSION</td>\n",
              "      <td>MULTIPOLYGON (((-122.40954 37.76932, -122.4086...</td>\n",
              "    </tr>\n",
              "    <tr>\n",
              "      <th>3</th>\n",
              "      <td>NORTHERN</td>\n",
              "      <td>MULTIPOLYGON (((-122.43379 37.80793, -122.4337...</td>\n",
              "    </tr>\n",
              "    <tr>\n",
              "      <th>4</th>\n",
              "      <td>TENDERLOIN</td>\n",
              "      <td>MULTIPOLYGON (((-122.40217 37.78626, -122.4171...</td>\n",
              "    </tr>\n",
              "  </tbody>\n",
              "</table>\n",
              "</div>"
            ],
            "text/plain": [
              "     district                                           geometry\n",
              "0    SOUTHERN  MULTIPOLYGON (((-122.39186 37.79425, -122.3917...\n",
              "1     BAYVIEW  MULTIPOLYGON (((-122.38098 37.76480, -122.3810...\n",
              "2     MISSION  MULTIPOLYGON (((-122.40954 37.76932, -122.4086...\n",
              "3    NORTHERN  MULTIPOLYGON (((-122.43379 37.80793, -122.4337...\n",
              "4  TENDERLOIN  MULTIPOLYGON (((-122.40217 37.78626, -122.4171..."
            ]
          },
          "metadata": {
            "tags": []
          },
          "execution_count": 8
        }
      ]
    },
    {
      "cell_type": "code",
      "metadata": {
        "id": "t6NSc7OJ8gu_",
        "colab_type": "code",
        "colab": {}
      },
      "source": [
        "center = [np.mean(map_test[\"Y\"]), np.mean(map_test[\"X\"]) ]"
      ],
      "execution_count": 0,
      "outputs": []
    },
    {
      "cell_type": "code",
      "metadata": {
        "id": "URqhCeOd941F",
        "colab_type": "code",
        "outputId": "5af62843-77b2-43e2-a309-8989209da05f",
        "colab": {
          "base_uri": "https://localhost:8080/",
          "height": 808
        }
      },
      "source": [
        "sfmap = folium.Map(location=center, zoom_start=12)\n",
        "sfmap"
      ],
      "execution_count": 35,
      "outputs": [
        {
          "output_type": "execute_result",
          "data": {
            "text/html": [
              "<div style=\"width:100%;\"><div style=\"position:relative;width:100%;height:0;padding-bottom:60%;\"><iframe src=\"data:text/html;charset=utf-8;base64,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\" style=\"position:absolute;width:100%;height:100%;left:0;top:0;border:none !important;\" allowfullscreen webkitallowfullscreen mozallowfullscreen></iframe></div></div>"
            ],
            "text/plain": [
              "<folium.folium.Map at 0x7fb00b13b860>"
            ]
          },
          "metadata": {
            "tags": []
          },
          "execution_count": 35
        }
      ]
    },
    {
      "cell_type": "code",
      "metadata": {
        "id": "zaAC2lRr9SL4",
        "colab_type": "code",
        "colab": {}
      },
      "source": [
        "sfmap.save(\"test.html\")"
      ],
      "execution_count": 0,
      "outputs": []
    }
  ]
}